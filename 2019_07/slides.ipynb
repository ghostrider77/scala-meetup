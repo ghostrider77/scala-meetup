{
 "cells": [
  {
   "cell_type": "markdown",
   "metadata": {
    "slideshow": {
     "slide_type": "slide"
    }
   },
   "source": [
    "Scala collections 101 and beyond \n",
    "=================\n",
    "\n",
    "## using Scala in competitive programming\n",
    "\n",
    "\n",
    "#### Tamás Kurics\n",
    "\n",
    "Data scientist at Twinner"
   ]
  },
  {
   "cell_type": "markdown",
   "metadata": {
    "slideshow": {
     "slide_type": "slide"
    }
   },
   "source": [
    "Programming background:\n",
    "\n",
    "* Spent many years in research (applied maths, scientific computing, math. biology) using MATLAB (2000-2012)\n",
    "* learnt QuickBASIC for a semester :-)\n",
    "* Started to use Python (writing small scripts) (2013)\n",
    "* Using Python for data science (2015-now)\n",
    "* The product I have worked on at Balabit was rewritten from Python to Scala, which was a game changer \n",
    "* Converted Scala user (2016-2018 professionally, hobbyist since 2019, interested in FP-related concepts)\n",
    "* Currently working on object detection and segmentation problems in the automotive industry (in Python)"
   ]
  },
  {
   "cell_type": "markdown",
   "metadata": {
    "slideshow": {
     "slide_type": "slide"
    }
   },
   "source": [
    "How to learn a language?\n",
    "\n",
    "Learning by doing (in your freetime):\n",
    "\n",
    "* Project Euler (cca. 2013-2014 in Matlab)\n",
    "* HackerRank (2016-now in Python, Scala, Haskell), top 100 in the FP-track\n",
    "* Rosalind (2016-2017 in Python, Scala)\n",
    "* Codility, etc (occasionally)"
   ]
  },
  {
   "cell_type": "markdown",
   "metadata": {
    "slideshow": {
     "slide_type": "slide"
    }
   },
   "source": [
    "### Transition from Python to Scala\n",
    "\n",
    "Python is a good choice for data science tasks:\n",
    "\n",
    "* large community\n",
    "* wide range of libraries for each possible tasks\n",
    "* a library for tabular data (pandas)\n",
    "* a library for numerical linear algebra (numpy)\n",
    "* a small set of well-designed collections"
   ]
  },
  {
   "cell_type": "markdown",
   "metadata": {
    "slideshow": {
     "slide_type": "slide"
    }
   },
   "source": [
    "But even if it is easy, one has to learn how the basic features of the language are actually implemented (```lst.append(x)``` or ```lst.insert(0, x)```)."
   ]
  },
  {
   "cell_type": "markdown",
   "metadata": {
    "slideshow": {
     "slide_type": "fragment"
    }
   },
   "source": [
    "```python\n",
    "def consume(lst):\n",
    "    while lst:\n",
    "        _ = lst.pop(0)\n",
    "\n",
    "def consume2(lst):\n",
    "    while lst:\n",
    "        _ = lst.pop()\n",
    "```"
   ]
  },
  {
   "cell_type": "markdown",
   "metadata": {
    "slideshow": {
     "slide_type": "slide"
    }
   },
   "source": [
    "```python\n",
    "matrix = [[0] * 2] * 3\n",
    "matrix[0][0] = 100\n",
    "\n",
    "total = 0\n",
    "for row in matrix:\n",
    "    for elem in row:\n",
    "        total += elem\n",
    "\n",
    "print(total)\n",
    "```\n",
    "\n",
    "Every language comes with 'surprises' (a *surprise* is a language feature that the programmer thinks he/she is aware of but the reality might be different)."
   ]
  },
  {
   "cell_type": "markdown",
   "metadata": {
    "slideshow": {
     "slide_type": "slide"
    }
   },
   "source": [
    "Default Python collections:\n",
    "\n",
    "* linear collections\n",
    "  * dynamic array: **list**, $O(1)$ get and set, append is amortized $O(1)$\n",
    "  * immutable linear collection: **tuple**\n",
    "* **string**s  \n",
    "* hashable elements:  \n",
    "  * unique hashable elements: **set**, **frozenset**\n",
    "  * key-value pairs: **dict**\n",
    "* some other things from libraries: **heapq**, **deque**,..."
   ]
  },
  {
   "cell_type": "markdown",
   "metadata": {
    "slideshow": {
     "slide_type": "slide"
    }
   },
   "source": [
    "In 2016 we have decided to rewrite our algorithms in Scala. Let's see what possibilities we have to store elements:\n",
    "\n",
    "* List\n",
    "* Vector\n",
    "* Array\n",
    "* String\n",
    "* Set\n",
    "* Map"
   ]
  },
  {
   "cell_type": "markdown",
   "metadata": {
    "slideshow": {
     "slide_type": "fragment"
    }
   },
   "source": [
    "And some others ..."
   ]
  },
  {
   "cell_type": "markdown",
   "metadata": {
    "slideshow": {
     "slide_type": "slide"
    }
   },
   "source": [
    "::                    HashSet               IntMapKeyIterator     List                  LongMapEntryIterator  Map              Page                  Set                   Stream                StringOps             Vector\n",
    "AbstractMap           IndexedSeq            IntMapUtils           ListMap               LongMapIterator       MapLike               Queue                 SetProxy              StreamIterator        Traversable           VectorBuilder\n",
    "BitSet                IntMap                IntMapValueIterator   ListSerializeEnd      LongMapKeyIterator    MapProxy              Range                 SortedMap             StreamView            TreeMap               VectorIterator\n",
    "DefaultMap            IntMapEntryIterator   Iterable              ListSet               LongMapUtils          Nil                    RedBlackTree          SortedSet             StreamViewLike        TreeSet               VectorPointer\n",
    "HashMap               IntMapIterator        LinearSeq             LongMap               LongMapValueIterator    NumericRange          Seq                   Stack                 StringLike            TrieIterator            WrappedString"
   ]
  },
  {
   "cell_type": "markdown",
   "metadata": {
    "slideshow": {
     "slide_type": "slide"
    }
   },
   "source": [
    "AbstractBuffer             ArrayLike                  DefaultEntry               History                    LinkedEntry                MapProxy                   Queue                      SetLike                    SynchronizedPriorityQueue  WrappedArray\n",
    "AbstractIterable           ArrayOps                   DefaultMapModel            ImmutableMapAdaptor        LinkedHashMap              MultiMap                   QueueProxy                 SetProxy                   SynchronizedQueue          WrappedArrayBuilder\n",
    "AbstractMap                ArraySeq                   DoubleLinkedListLike       ImmutableSetAdaptor        LinkedHashSet              MutableList                RedBlackTree               SortedMap                  SynchronizedSet\n",
    "AbstractSeq                ArrayStack                 DoublingUnrolledBuffer     IndexedSeq                 LinkedListLike             ObservableBuffer           ResizableArray             SortedSet                  SynchronizedStack\n",
    "AbstractSet                BitSet                     FlatHashTable              IndexedSeqLike             ListBuffer                 ObservableMap              ReusableBuilder            Stack                      Traversable\n",
    "AbstractSortedMap          Buffer                     GrowingBuilder             IndexedSeqOptimized        ListMap                    ObservableSet              RevertibleHistory          StackProxy                 TreeMap\n",
    "AbstractSortedSet          BufferLike                 HashEntry                  IndexedSeqView             LongMap                    OpenHashMap                Seq                        StringBuilder              TreeSet\n",
    "AnyRefMap                  BufferProxy                HashMap                    Iterable                   Map                        PriorityQueue              SeqLike                    Subscriber                 Undoable\n",
    "ArrayBuffer                Builder                    HashSet                    LazyBuilder                MapBuilder                 PriorityQueueProxy         Set                        SynchronizedBuffer         UnrolledBuffer\n",
    "ArrayBuilder               Cloneable                  HashTable                  LinearSeq                  MapLike                    Publisher                  SetBuilder                 SynchronizedMap            WeakHashMap"
   ]
  },
  {
   "cell_type": "code",
   "execution_count": null,
   "metadata": {
    "slideshow": {
     "slide_type": "slide"
    }
   },
   "outputs": [],
   "source": [
    "import $ivy.`com.storm-enroute::scalameter-core:0.8.2`"
   ]
  },
  {
   "cell_type": "code",
   "execution_count": null,
   "metadata": {
    "slideshow": {
     "slide_type": "fragment"
    }
   },
   "outputs": [],
   "source": [
    "import org.scalameter._\n",
    "\n",
    "object Config {\n",
    "  val standardConfig: MeasureBuilder[Unit, Double] = config(\n",
    "    Key.exec.minWarmupRuns -> 5,\n",
    "    Key.exec.maxWarmupRuns -> 10,\n",
    "    Key.exec.benchRuns -> 10,\n",
    "    Key.verbose -> true\n",
    "  ) withWarmer new Warmer.Default\n",
    "}"
   ]
  },
  {
   "cell_type": "code",
   "execution_count": null,
   "metadata": {
    "slideshow": {
     "slide_type": "fragment"
    }
   },
   "outputs": [],
   "source": [
    "import scala.annotation.tailrec\n",
    "import scala.util.Random\n",
    "import Config.standardConfig"
   ]
  },
  {
   "cell_type": "code",
   "execution_count": null,
   "metadata": {
    "slideshow": {
     "slide_type": "fragment"
    }
   },
   "outputs": [],
   "source": [
    "scala.util.Properties.versionString"
   ]
  },
  {
   "cell_type": "code",
   "execution_count": null,
   "metadata": {
    "slideshow": {
     "slide_type": "slide"
    }
   },
   "outputs": [],
   "source": [
    "val list: List[Int] = List(2, 4, 1, 3, 6, 5, 0, 9, 7, 8)"
   ]
  },
  {
   "cell_type": "code",
   "execution_count": null,
   "metadata": {
    "slideshow": {
     "slide_type": "fragment"
    }
   },
   "outputs": [],
   "source": [
    "list.isEmpty\n",
    "\n",
    "list.head\n",
    "\n",
    "list.tail"
   ]
  },
  {
   "cell_type": "markdown",
   "metadata": {
    "slideshow": {
     "slide_type": "fragment"
    }
   },
   "source": [
    "All the 3 methods run in $O(1)$, although partial functions are not necessarily the best things to use."
   ]
  },
  {
   "cell_type": "markdown",
   "metadata": {
    "slideshow": {
     "slide_type": "slide"
    }
   },
   "source": [
    "Count the number of even elements in a list. In Python, there is only one way to do it: the most Pythonic solution."
   ]
  },
  {
   "cell_type": "code",
   "execution_count": null,
   "metadata": {
    "slideshow": {
     "slide_type": "fragment"
    }
   },
   "outputs": [],
   "source": [
    "def countEvens1(lst: List[Int]): Int = {\n",
    "  @tailrec\n",
    "  def loop(xs: List[Int], acc: Int): Int =\n",
    "    if (xs.isEmpty) acc\n",
    "    else if (xs.head % 2 == 0) loop(xs.tail, acc + 1)\n",
    "    else loop(xs.tail, acc)\n",
    "\n",
    "  loop(lst, 0)\n",
    "}\n",
    "\n",
    "def countEvens2(lst: List[Int]): Int = {\n",
    "  @tailrec\n",
    "  def loop(xs: List[Int], acc: Int): Int = xs match {\n",
    "    case Nil => acc\n",
    "    case x :: xss => if (x % 2 == 0) loop(xss, acc + 1) else loop(xss, acc)\n",
    "  }\n",
    "  loop(lst, 0)\n",
    "}"
   ]
  },
  {
   "cell_type": "code",
   "execution_count": null,
   "metadata": {
    "slideshow": {
     "slide_type": "slide"
    }
   },
   "outputs": [],
   "source": [
    "def countEvens3(lst: List[Int]): Int =\n",
    "  lst.foldLeft(0)((acc, elem) => if (elem % 2 == 0) acc + 1 else acc)\n",
    "\n",
    "\n",
    "def countEvens4(lst: List[Int]): Int =\n",
    "  lst.foldRight(0)((elem, acc) => if (elem % 2 == 0) acc + 1 else acc)\n",
    "\n",
    "\n",
    "def countEvens5(lst: List[Int]): Int = lst.count(_ % 2 == 0)\n",
    "\n",
    "\n",
    "def countEvens6(lst: List[Int]): Int = {\n",
    "  var count: Int = 0\n",
    "  for {\n",
    "    elem <- lst\n",
    "    if elem % 2 == 0\n",
    "  } count += 1\n",
    "  count\n",
    "}"
   ]
  },
  {
   "cell_type": "code",
   "execution_count": null,
   "metadata": {
    "slideshow": {
     "slide_type": "slide"
    }
   },
   "outputs": [],
   "source": [
    "def generateIntList(size: Int): List[Int] = {\n",
    "   val r = new Random(42)\n",
    "    (0 until size).map(_ => r.nextInt()).toList\n",
    "  }"
   ]
  },
  {
   "cell_type": "code",
   "execution_count": null,
   "metadata": {
    "slideshow": {
     "slide_type": "fragment"
    }
   },
   "outputs": [],
   "source": [
    "val size: Int = 1000000\n",
    "val list: List[Int] = generateIntList(size)"
   ]
  },
  {
   "cell_type": "code",
   "execution_count": null,
   "metadata": {
    "slideshow": {
     "slide_type": "slide"
    }
   },
   "outputs": [],
   "source": [
    "val time: Quantity[Double] = standardConfig.measure {\n",
    "  countEvens5(list)\n",
    "}\n",
    "println(time)"
   ]
  },
  {
   "cell_type": "markdown",
   "metadata": {
    "slideshow": {
     "slide_type": "slide"
    }
   },
   "source": [
    "Methods such as ```isEmpty, head, tail``` are so fundamental that many collections implement these.\n",
    "\n",
    "But what do they mean? \n",
    "* what is the head of a Set?\n",
    "* what is the tail of a Vector?\n",
    "* What do we get if we take the first $k$ elements from a PriorityQueue?\n",
    "\n",
    "Can we assume that all these methods have the same meaning and same computational complexity for all collections where they are implemented?"
   ]
  },
  {
   "cell_type": "markdown",
   "metadata": {
    "slideshow": {
     "slide_type": "slide"
    }
   },
   "source": [
    "### Problem 1 - Sequence of full colors (Easy)"
   ]
  },
  {
   "cell_type": "markdown",
   "metadata": {
    "slideshow": {
     "slide_type": "fragment"
    }
   },
   "source": [
    "You are given a sequence of balls in 4 colors: red, green, yellow and blue. The sequence is full of colors if and only if all of the following conditions are true:\n",
    "\n",
    "* There are as many red balls as green balls.\n",
    "* There are as many yellow balls as blue balls.\n",
    "* Difference between the number of red balls and green balls in every prefix of the sequence is at most 1.\n",
    "* Difference between the number of yellow balls and blue balls in every prefix of the sequence is at most 1.\n",
    "\n",
    "Your task is to write a program, which for a given sequence prints True if it is full of colors, otherwise it prints False."
   ]
  },
  {
   "cell_type": "code",
   "execution_count": null,
   "metadata": {
    "slideshow": {
     "slide_type": "slide"
    }
   },
   "outputs": [],
   "source": [
    "def hasFullColors(sequence: String): Boolean = {\n",
    "  def prefixCondition(colors: Map[Char, Int]): Boolean =\n",
    "    math.abs(colors('R') - colors('G')) <= 1 && math.abs(colors('B') - colors('Y')) <= 1\n",
    "\n",
    "  @tailrec\n",
    "  def loop(acc: Map[Char, Int], colors: String): Boolean = {\n",
    "    if (colors.isEmpty) prefixCondition(acc) && acc('R') == acc('G') && acc('B') == acc('Y')\n",
    "    else {\n",
    "      val firstCharacter: Char = colors.head\n",
    "      val updatedColors: Map[Char, Int] = acc.updated(firstCharacter, acc(firstCharacter) + 1)\n",
    "      if (prefixCondition(updatedColors)) loop(updatedColors, colors.tail)\n",
    "      else false\n",
    "    }\n",
    "  }\n",
    "  \n",
    "  loop(Map('R' -> 0, 'G' -> 0, 'B' -> 0, 'Y' -> 0), sequence)\n",
    "}"
   ]
  },
  {
   "cell_type": "code",
   "execution_count": null,
   "metadata": {
    "slideshow": {
     "slide_type": "slide"
    }
   },
   "outputs": [],
   "source": [
    "def generateRandomString(size: Int): String = {\n",
    "  val r = new Random(42L)\n",
    "  val colors: Vector[Char] = Vector('R', 'G', 'B', 'Y')\n",
    "  val n: Int = colors.length\n",
    "  (for {\n",
    "    _ <- 0 until size\n",
    "    ix = r.nextInt(n)\n",
    "  } yield colors(ix)).mkString\n",
    "}\n",
    "\n",
    "val colors: String = generateRandomString(10)"
   ]
  },
  {
   "cell_type": "code",
   "execution_count": null,
   "metadata": {
    "slideshow": {
     "slide_type": "slide"
    }
   },
   "outputs": [],
   "source": [
    "val colors: String = generateRandomString(1000000)\n",
    "\n",
    "val t0 = System.nanoTime()\n",
    "val res: Boolean = hasFullColors(colors)\n",
    "val t1 = System.nanoTime()\n",
    "println((t1 - t0) / 1e9)"
   ]
  },
  {
   "cell_type": "code",
   "execution_count": null,
   "metadata": {
    "slideshow": {
     "slide_type": "slide"
    }
   },
   "outputs": [],
   "source": [
    "def generateTestString(size: Int): String = {\n",
    "  val colors: List[Char] = List('R', 'G', 'B', 'Y')\n",
    "  (0 until size / 4 + 1).flatMap(_ => colors).take(size).mkString\n",
    "}\n",
    "\n",
    "val colors: String = generateTestString(400000)\n",
    "//val colors: String = generateTestString(400000)\n",
    "\n",
    "val t0 = System.nanoTime()\n",
    "val res: Boolean = hasFullColors(colors)\n",
    "val t1 = System.nanoTime()\n",
    "println((t1 - t0) / 1e9)"
   ]
  },
  {
   "cell_type": "code",
   "execution_count": null,
   "metadata": {
    "slideshow": {
     "slide_type": "slide"
    }
   },
   "outputs": [],
   "source": [
    "def hasFullColors2(sequence: String): Boolean = {\n",
    "    def prefixCondition(colors: Map[Char, Int]): Boolean =\n",
    "      math.abs(colors('R') - colors('G')) <= 1 && math.abs(colors('B') - colors('Y')) <= 1\n",
    "\n",
    "    @tailrec\n",
    "    def loop(acc: Map[Char, Int], colors: List[Char]): Boolean = {\n",
    "      if (colors.isEmpty) prefixCondition(acc) && acc('R') == acc('G') && acc('B') == acc('Y')\n",
    "      else {\n",
    "        val firstCharacter: Char = colors.head\n",
    "        val updatedColors: Map[Char, Int] = acc.updated(firstCharacter, acc(firstCharacter) + 1)\n",
    "        if (prefixCondition(updatedColors)) loop(updatedColors, colors.tail)\n",
    "        else false\n",
    "      }\n",
    "    }\n",
    "\n",
    "    loop(Map('R' -> 0, 'G' -> 0, 'B' -> 0, 'Y' -> 0), sequence.toList)\n",
    "  }"
   ]
  },
  {
   "cell_type": "code",
   "execution_count": null,
   "metadata": {
    "slideshow": {
     "slide_type": "slide"
    }
   },
   "outputs": [],
   "source": [
    "val colors: String = generateTestString(2000000)\n",
    "\n",
    "val t0 = System.nanoTime()\n",
    "val res: Boolean = hasFullColors2(colors)\n",
    "val t1 = System.nanoTime()\n",
    "println((t1 - t0) / 1e9)"
   ]
  },
  {
   "cell_type": "markdown",
   "metadata": {
    "slideshow": {
     "slide_type": "slide"
    }
   },
   "source": [
    "### Problem 2 - Pattern matching (finding strings in a text)\n",
    "#### A walk around Maps"
   ]
  },
  {
   "cell_type": "markdown",
   "metadata": {
    "slideshow": {
     "slide_type": "fragment"
    }
   },
   "source": [
    "Run Matching problem in IntelliJIDEA"
   ]
  },
  {
   "cell_type": "code",
   "execution_count": null,
   "metadata": {
    "slideshow": {
     "slide_type": "slide"
    }
   },
   "outputs": [],
   "source": [
    "val m: Map[String, Int] = Map(\"a\" -> 1, \"b\" -> 2)"
   ]
  },
  {
   "cell_type": "code",
   "execution_count": null,
   "metadata": {
    "slideshow": {
     "slide_type": "fragment"
    }
   },
   "outputs": [],
   "source": [
    "def func(x: Int): Int = {\n",
    "  Thread.sleep(3000)\n",
    "  x + 1\n",
    "}"
   ]
  },
  {
   "cell_type": "code",
   "execution_count": null,
   "metadata": {
    "slideshow": {
     "slide_type": "fragment"
    }
   },
   "outputs": [],
   "source": [
    "val updated: Map[String, Int] = m.map{ case (key, value) => (key, func(value))}"
   ]
  },
  {
   "cell_type": "code",
   "execution_count": null,
   "metadata": {
    "slideshow": {
     "slide_type": "fragment"
    }
   },
   "outputs": [],
   "source": [
    "updated"
   ]
  },
  {
   "cell_type": "code",
   "execution_count": null,
   "metadata": {
    "slideshow": {
     "slide_type": "slide"
    }
   },
   "outputs": [],
   "source": [
    "val updated2: Map[String, Int] = m.mapValues(func)"
   ]
  },
  {
   "cell_type": "code",
   "execution_count": null,
   "metadata": {
    "slideshow": {
     "slide_type": "fragment"
    }
   },
   "outputs": [],
   "source": [
    "updated2"
   ]
  },
  {
   "cell_type": "code",
   "execution_count": null,
   "metadata": {
    "slideshow": {
     "slide_type": "fragment"
    }
   },
   "outputs": [],
   "source": [
    "updated2(\"a\")"
   ]
  },
  {
   "cell_type": "code",
   "execution_count": null,
   "metadata": {
    "slideshow": {
     "slide_type": "fragment"
    }
   },
   "outputs": [],
   "source": [
    "val updated3: Map[String, Int] = m.mapValues(func).view.force"
   ]
  },
  {
   "cell_type": "code",
   "execution_count": null,
   "metadata": {
    "slideshow": {
     "slide_type": "fragment"
    }
   },
   "outputs": [],
   "source": [
    "updated3"
   ]
  },
  {
   "cell_type": "code",
   "execution_count": null,
   "metadata": {
    "slideshow": {
     "slide_type": "slide"
    }
   },
   "outputs": [],
   "source": [
    "trait CoinState\n",
    "case object Head extends CoinState\n",
    "case object Tail extends CoinState\n",
    "\n",
    "val r = new Random(42)\n",
    "\n",
    "val distribution: Map[CoinState, Double] = Map(Head -> 0.5, Tail -> 0.5)"
   ]
  },
  {
   "cell_type": "code",
   "execution_count": null,
   "metadata": {
    "slideshow": {
     "slide_type": "fragment"
    }
   },
   "outputs": [],
   "source": [
    "val perturbation: Map[CoinState, Double] = distribution.mapValues(p => p + 0.1 * r.nextGaussian())\n",
    "val sum: Double = perturbation.valuesIterator.sum\n",
    "val updated: Map[CoinState, Double] = perturbation.mapValues(_ / sum)"
   ]
  },
  {
   "cell_type": "markdown",
   "metadata": {
    "slideshow": {
     "slide_type": "slide"
    }
   },
   "source": [
    "### Problem 3 - Range Minimum Query"
   ]
  },
  {
   "cell_type": "markdown",
   "metadata": {
    "slideshow": {
     "slide_type": "fragment"
    }
   },
   "source": [
    "Given an array of integers $a_1, a_2, \\dots,a_N$ and $K$ queries.\n",
    "* Q l r : Find the minimum positive integer $M$, such that each element in subarray $[a_l,a_{l+1},\\dots,a_r]$ divides $M$.\n",
    "* U i v : Multiply $a_{i}$ by $v$ \n",
    "\n",
    "Constraints:\n",
    "$1\\leq N \\leq 2\\cdot 10^4$, $1 \\leq a_i\\leq 100$, $1\\leq K \\leq 2\\cdot 10^4$, $1\\leq v\\leq 100$\n",
    "\n",
    "For each query of type Q l r, print the value of $M$ on a new line (modulo $10^9 + 7$))."
   ]
  },
  {
   "cell_type": "markdown",
   "metadata": {
    "slideshow": {
     "slide_type": "slide"
    }
   },
   "source": [
    "If \n",
    "$$ n = p_1^{\\alpha_1}p_2^{\\alpha_2}\\cdots p_k^{\\alpha_k},$$\n",
    "then $n$ can be represented as a Map: $$p \\to \\alpha.$$ Then multiplication and least common multiples can be calculated easily without Int/Long overflow:\n",
    "\n",
    "$$\n",
    "n \\cdot m = p_1^{\\alpha_1 + \\beta_1}p_2^{\\alpha_2 + \\beta_2}\\cdots p_k^{\\alpha_k + \\beta_k},\n",
    "$$\n",
    "and\n",
    "$$\n",
    "\\text{lcm}(n, m) =  p_1^{\\max\\{\\alpha_1, \\beta_1\\}}p_2^{\\max\\{\\alpha_2, \\beta_2\\}}\\cdots p_k^{\\max\\{\\alpha_k, \\beta_k\\}}\n",
    "$$"
   ]
  },
  {
   "cell_type": "code",
   "execution_count": null,
   "metadata": {
    "slideshow": {
     "slide_type": "slide"
    }
   },
   "outputs": [],
   "source": [
    "import scala.collection.mutable.ListBuffer\n",
    "\n",
    "val UpperLimit: Int = 100\n",
    "\n",
    "def getPrimes(limit: Int): List[Int] = {\n",
    "  def isPrime(n: Int, primes: Iterator[Int]): Boolean = primes.takeWhile(_ <= math.sqrt(n)).forall(p => n % p != 0)\n",
    "  val primes: ListBuffer[Int] = ListBuffer(2)\n",
    "  for {\n",
    "    p <- 3 to limit by 2\n",
    "    if isPrime(p, primes.iterator)\n",
    "  } primes += p\n",
    "\n",
    "  primes.toList\n",
    "}\n",
    "\n",
    "val Primes: List[Int] = getPrimes(UpperLimit)\n",
    "\n",
    "def findLargestExponent(n: Int, prime: Int): (Int, Int) = {\n",
    "  @tailrec\n",
    "  def loop(k: Int, exponent: Int): (Int, Int) = {\n",
    "    if (k % prime != 0) (k, exponent)\n",
    "    else loop(k / prime, exponent + 1)\n",
    "  }\n",
    "  loop(n, 0)\n",
    "}"
   ]
  },
  {
   "cell_type": "code",
   "execution_count": null,
   "metadata": {
    "slideshow": {
     "slide_type": "slide"
    }
   },
   "outputs": [],
   "source": [
    "import scala.collection.breakOut\n",
    "\n",
    "val Modulus: Int = 1e9.toInt + 7\n",
    "\n",
    "case class CanonicalForm(primeFactorization: Map[Int, Int]) {\n",
    "  lazy val asInt: Int = primeFactorization.foldLeft(1L) {\n",
    "    case (acc, (p, exponent)) => (0 until exponent).foldLeft(acc)((prod, _) => prod * p % Modulus)\n",
    "  }.toInt\n",
    "\n",
    "  def * (that: CanonicalForm): CanonicalForm = {\n",
    "    val primes: Set[Int] = this.primeFactorization.keySet.union(that.primeFactorization.keySet)\n",
    "    val product: Map[Int, Int] = \n",
    "      primes.map(\n",
    "          p => p -> (this.primeFactorization.getOrElse(p, 0) + \n",
    "                     that.primeFactorization.getOrElse(p, 0)))(breakOut)\n",
    "    CanonicalForm(product)\n",
    "  }\n",
    "}\n",
    "\n",
    "object CanonicalForm {\n",
    "  def apply(n: Int): CanonicalForm = {\n",
    "    @tailrec\n",
    "    def loop(k: Int, primes: List[Int], factorization: Map[Int, Int]): CanonicalForm = primes match {\n",
    "      case Nil if k > 1 => throw new Exception(s\"$n is not factorized!\")\n",
    "      case Nil => CanonicalForm(factorization)\n",
    "      case p :: ps =>\n",
    "        if (k == 1) CanonicalForm(factorization)\n",
    "        else {\n",
    "          val (remainder, exponent): (Int, Int) = findLargestExponent(k, p)\n",
    "          if (exponent == 0) loop(remainder, ps, factorization)\n",
    "          else loop(remainder, ps, factorization + (p -> exponent))\n",
    "        }\n",
    "    }\n",
    "    loop(n, Primes, Map())\n",
    "  }\n",
    "}"
   ]
  },
  {
   "cell_type": "code",
   "execution_count": null,
   "metadata": {
    "slideshow": {
     "slide_type": "slide"
    }
   },
   "outputs": [],
   "source": [
    "val x = CanonicalForm(2 * 3 * 5 * 11)\n",
    "val y = CanonicalForm(13 * 23)\n",
    "val z = CanonicalForm(5 * 5 * 17 * 13)"
   ]
  },
  {
   "cell_type": "code",
   "execution_count": null,
   "metadata": {
    "slideshow": {
     "slide_type": "fragment"
    }
   },
   "outputs": [],
   "source": [
    "x.asInt"
   ]
  },
  {
   "cell_type": "code",
   "execution_count": null,
   "metadata": {
    "slideshow": {
     "slide_type": "slide"
    }
   },
   "outputs": [],
   "source": [
    "val xs : List[CanonicalForm] = (0 until 500000).flatMap{ _ => List(x, y, z) }.toList"
   ]
  },
  {
   "cell_type": "code",
   "execution_count": null,
   "metadata": {
    "slideshow": {
     "slide_type": "slide"
    }
   },
   "outputs": [],
   "source": [
    "val t0 = System.nanoTime()\n",
    "val _: CanonicalForm = xs.foldLeft(CanonicalForm(1))((acc, elem) => acc * elem)\n",
    "val t1 = System.nanoTime()\n",
    "println((t1 - t0) / 1e9)"
   ]
  },
  {
   "cell_type": "code",
   "execution_count": null,
   "metadata": {
    "slideshow": {
     "slide_type": "slide"
    }
   },
   "outputs": [],
   "source": [
    "import scala.collection.immutable.HashMap\n",
    "\n",
    "val Modulus: Int = 1e9.toInt + 7\n",
    "\n",
    "final case class CanonicalForm(primeFactorization: HashMap[Int, Int]) {\n",
    "  lazy val asInt: Int = primeFactorization.foldLeft(1L) {\n",
    "    case (acc, (p, exponent)) => (0 until exponent).foldLeft(acc)((prod, _) => prod * p % Modulus)\n",
    "  }.toInt\n",
    "\n",
    "  def * (that: CanonicalForm): CanonicalForm =\n",
    "    CanonicalForm(this.primeFactorization.merged(that.primeFactorization){ \n",
    "        case ((p, e1), (_, e2)) => (p, e1 + e2) \n",
    "    })\n",
    "}\n",
    "\n",
    "object CanonicalForm {\n",
    "  def apply(n: Int): CanonicalForm = {\n",
    "    @tailrec\n",
    "    def loop(k: Int, primes: List[Int], factorization: HashMap[Int, Int]): CanonicalForm = primes match {\n",
    "      case Nil if k > 1 => throw new Exception(s\"$n is not factorized!\")\n",
    "      case Nil => CanonicalForm(factorization)\n",
    "      case p :: ps =>\n",
    "        if (k == 1) CanonicalForm(factorization)\n",
    "        else {\n",
    "          val (remainder, exponent): (Int, Int) = findLargestExponent(k, p)\n",
    "          if (exponent == 0) loop(remainder, ps, factorization)\n",
    "          else loop(remainder, ps, factorization + (p -> exponent))\n",
    "        }\n",
    "    }\n",
    "    loop(n, Primes, HashMap())\n",
    "  }\n",
    "}"
   ]
  },
  {
   "cell_type": "markdown",
   "metadata": {
    "slideshow": {
     "slide_type": "slide"
    }
   },
   "source": [
    "What is returned by the ```Map``` constructor?"
   ]
  },
  {
   "cell_type": "code",
   "execution_count": null,
   "metadata": {
    "slideshow": {
     "slide_type": "fragment"
    }
   },
   "outputs": [],
   "source": [
    "val m: Map[String, Int] = Map(\"a\" -> 1, \"b\" -> 2)\n",
    "\n",
    "m.isInstanceOf[HashMap[String, Int]]"
   ]
  },
  {
   "cell_type": "code",
   "execution_count": null,
   "metadata": {
    "slideshow": {
     "slide_type": "subslide"
    }
   },
   "outputs": [],
   "source": [
    "val m: Map[String, Int] = Map(\"a\" -> 1, \"b\" -> 2, \"c\" -> 3, \"d\" -> 4, \"e\" -> 5)\n",
    "\n",
    "m.isInstanceOf[HashMap[String, Int]]"
   ]
  },
  {
   "cell_type": "code",
   "execution_count": null,
   "metadata": {
    "slideshow": {
     "slide_type": "slide"
    }
   },
   "outputs": [],
   "source": [
    "val m1: HashMap[String, Int] = HashMap(\"a\" -> 1, \"b\" -> 2)\n",
    "val m2: HashMap[String, Int] = HashMap(\"a\" -> 10, \"c\" -> 20)\n",
    "\n",
    "m1.merged(m2){ case ((k1, v1), (k2, v2)) => (k1 + k2, v1 + v2) }"
   ]
  },
  {
   "cell_type": "code",
   "execution_count": null,
   "metadata": {
    "slideshow": {
     "slide_type": "slide"
    }
   },
   "outputs": [],
   "source": [
    "val x = CanonicalForm(2 * 3 * 5 * 11)\n",
    "val y = CanonicalForm(13 * 23)\n",
    "val z = CanonicalForm(5 * 5 * 17 * 13)\n",
    "\n",
    "val xs : List[CanonicalForm] = (0 until 500000).flatMap{ _ => List(x, y, z) }.toList"
   ]
  },
  {
   "cell_type": "code",
   "execution_count": null,
   "metadata": {
    "slideshow": {
     "slide_type": "fragment"
    }
   },
   "outputs": [],
   "source": [
    "val t0 = System.nanoTime()\n",
    "val _: CanonicalForm = xs.foldLeft(CanonicalForm(1))((acc, elem) => acc * elem)\n",
    "val t1 = System.nanoTime()\n",
    "println((t1 - t0) / 1e9)"
   ]
  },
  {
   "cell_type": "markdown",
   "metadata": {
    "slideshow": {
     "slide_type": "slide"
    }
   },
   "source": [
    "### Problem 4 - Running median of integers (Hard)"
   ]
  },
  {
   "cell_type": "markdown",
   "metadata": {
    "slideshow": {
     "slide_type": "fragment"
    }
   },
   "source": [
    "* Input: a list of integers $a_1, a_2, \\dots,a_n$ where $ n\\leq 10^5$.\n",
    "* Output: a list of medians where the $k^{\\text th}$ element is the median of the elements $a_1,\\dots,a_k$.\n",
    "\n",
    "This is the simplified version of a problem called Messy Medians."
   ]
  },
  {
   "cell_type": "code",
   "execution_count": null,
   "metadata": {
    "slideshow": {
     "slide_type": "slide"
    }
   },
   "outputs": [],
   "source": [
    "def calcRunningMedians1(numbers: List[Int]): List[Int] = {\n",
    "    @tailrec\n",
    "    def loop(medians: List[Int], prefix: Vector[Int], ns: List[Int]): List[Int] = ns match {\n",
    "      case Nil => medians.reverse\n",
    "      case n :: nss =>\n",
    "        val updated: Vector[Int] = n +: prefix\n",
    "        val size: Int = updated.size\n",
    "        val sorted: Vector[Int] = updated.sorted\n",
    "        val m: Int =\n",
    "          if (size % 2 == 1) sorted(size / 2)\n",
    "          else (sorted(size / 2 - 1) + sorted(size / 2)) / 2\n",
    "        loop(m :: medians, sorted, nss)\n",
    "    }\n",
    "  loop(Nil, Vector(), numbers)\n",
    "}"
   ]
  },
  {
   "cell_type": "code",
   "execution_count": null,
   "metadata": {
    "slideshow": {
     "slide_type": "slide"
    }
   },
   "outputs": [],
   "source": [
    "val numbers: List[Int] = generateIntList(20000)\n",
    "\n",
    "val t0 = System.nanoTime()\n",
    "val res: List[Int] = calcRunningMedians1(numbers)\n",
    "val t1 = System.nanoTime()\n",
    "println((t1 - t0) / 1e9)"
   ]
  },
  {
   "cell_type": "markdown",
   "metadata": {
    "slideshow": {
     "slide_type": "fragment"
    }
   },
   "source": [
    "This is an $O(n^2\\log n)$ solution."
   ]
  },
  {
   "cell_type": "code",
   "execution_count": null,
   "metadata": {
    "slideshow": {
     "slide_type": "slide"
    }
   },
   "outputs": [],
   "source": [
    "import scala.collection.mutable.{PriorityQueue => Heap}\n",
    "\n",
    "val heap = Heap(1, 3, 2, 6, 7, 9, 8, 0, 4)"
   ]
  },
  {
   "cell_type": "markdown",
   "metadata": {
    "slideshow": {
     "slide_type": "fragment"
    }
   },
   "source": [
    "What are these things and how fast they are?"
   ]
  },
  {
   "cell_type": "code",
   "execution_count": null,
   "metadata": {
    "slideshow": {
     "slide_type": "fragment"
    }
   },
   "outputs": [],
   "source": [
    "heap.head\n",
    "\n",
    "heap.max\n",
    "\n",
    "heap.take(4)"
   ]
  },
  {
   "cell_type": "code",
   "execution_count": null,
   "metadata": {
    "slideshow": {
     "slide_type": "slide"
    }
   },
   "outputs": [],
   "source": [
    "val list: List[Int] = generateIntList(1000000)\n",
    "val heap = Heap(list: _*)\n",
    "\n",
    "val time: Quantity[Double] = standardConfig.measure {\n",
    "  //heap.max\n",
    "  heap.head\n",
    "}\n",
    "println(time)"
   ]
  },
  {
   "cell_type": "code",
   "execution_count": null,
   "metadata": {
    "slideshow": {
     "slide_type": "slide"
    }
   },
   "outputs": [],
   "source": [
    "def calcMedian(maxHeap: Heap[Int], minHeap: Heap[Int]): Int = {\n",
    "  val s1: Int = maxHeap.size\n",
    "  val s2: Int = minHeap.size\n",
    "  if (s1 > s2) maxHeap.head\n",
    "  else if (s2 > s1) minHeap.head\n",
    "  else (maxHeap.head + minHeap.head) / 2\n",
    "}\n",
    "\n",
    "def addToHeap(n: Int, currentMedian: Int, maxHeap: Heap[Int], minHeap: Heap[Int]): Unit = {\n",
    "  if (n < currentMedian) maxHeap.enqueue(n)\n",
    "  else minHeap.enqueue(n)\n",
    "}\n",
    "\n",
    "def balanceHeaps(maxHeap: Heap[Int], minHeap: Heap[Int]): Unit = {\n",
    "  val s1: Int = maxHeap.size\n",
    "  val s2: Int = minHeap.size\n",
    "  if (s1 > s2 + 1) {\n",
    "    val largestLeft: Int = maxHeap.dequeue()\n",
    "    minHeap.enqueue(largestLeft)\n",
    "  } else if (s2 > s1 + 1) {\n",
    "    val smallestRight: Int = minHeap.dequeue()\n",
    "    maxHeap.enqueue(smallestRight)\n",
    "  }\n",
    "}"
   ]
  },
  {
   "cell_type": "code",
   "execution_count": null,
   "metadata": {
    "slideshow": {
     "slide_type": "subslide"
    }
   },
   "outputs": [],
   "source": [
    "def calcRunningMedians2(numbers: List[Int]): List[Int] = {\n",
    "  val maxHeap = Heap.empty[Int]\n",
    "  val minHeap = Heap.empty[Int](Ordering[Int].reverse)\n",
    "\n",
    "  @tailrec\n",
    "  def loop(acc: List[Int], currentMedian: Int, ns: List[Int]): List[Int] = ns match {\n",
    "    case Nil => acc.reverse\n",
    "    case n :: nss =>\n",
    "      addToHeap(n, currentMedian, maxHeap, minHeap)\n",
    "      balanceHeaps(maxHeap, minHeap)\n",
    "      val m: Int = calcMedian(maxHeap, minHeap)\n",
    "      loop(m :: acc, m, nss)\n",
    "  }\n",
    "\n",
    "  numbers match {\n",
    "    case Nil => Nil\n",
    "    case first :: rest =>\n",
    "      minHeap.enqueue(first)\n",
    "      loop(List(first), first, rest)\n",
    "  }\n",
    "}"
   ]
  },
  {
   "cell_type": "code",
   "execution_count": null,
   "metadata": {
    "slideshow": {
     "slide_type": "slide"
    }
   },
   "outputs": [],
   "source": [
    "val numbers: List[Int] = generateIntList(1000000)\n",
    "\n",
    "val t0 = System.nanoTime()\n",
    "val res: List[Int] = calcRunningMedians2(numbers)\n",
    "val t1 = System.nanoTime()\n",
    "println((t1 - t0) / 1e9)"
   ]
  },
  {
   "cell_type": "markdown",
   "metadata": {
    "slideshow": {
     "slide_type": "slide"
    }
   },
   "source": [
    "A heap is mutable, its inner representation is a resizeable array. \n",
    "\n",
    "Is there a persistent data structure that stores its element sorted and provides fast enough methods to extract its middle elements?"
   ]
  },
  {
   "cell_type": "code",
   "execution_count": null,
   "metadata": {
    "slideshow": {
     "slide_type": "fragment"
    }
   },
   "outputs": [],
   "source": [
    "import scala.collection.immutable.TreeSet\n",
    "\n",
    "val set = TreeSet(1, 4, 3, 5, 7, 8, 2, 2, 1, 1, 1)"
   ]
  },
  {
   "cell_type": "markdown",
   "metadata": {
    "slideshow": {
     "slide_type": "fragment"
    }
   },
   "source": [
    "How can we create a multiset?"
   ]
  },
  {
   "cell_type": "code",
   "execution_count": null,
   "metadata": {
    "slideshow": {
     "slide_type": "fragment"
    }
   },
   "outputs": [],
   "source": [
    "val multiset = TreeSet((1, 0), (4, 1), (3, 2), (5, 3), (7, 4), (8, 5), (2, 6), (2, 7), (1, 8), (1, 9), (1, 10))"
   ]
  },
  {
   "cell_type": "code",
   "execution_count": null,
   "metadata": {
    "slideshow": {
     "slide_type": "slide"
    }
   },
   "outputs": [],
   "source": [
    "def calcRunningMedians3(numbers: List[Int]): List[Int] = {\n",
    "  @tailrec\n",
    "  def loop(treeSet: TreeSet[(Int, Int)], medians: List[Int], ns: List[(Int, Int)]): List[Int] = ns match {\n",
    "    case Nil => medians.reverse\n",
    "    case (n, ix) :: nss =>\n",
    "      val updatedSet: TreeSet[(Int, Int)] = treeSet.insert((n, ix))\n",
    "      val size: Int = updatedSet.size\n",
    "      val m: Int =\n",
    "        if (size % 2 == 1) {\n",
    "          val List(elem) = updatedSet.slice(size / 2, size / 2 + 1).toList.map(_._1)\n",
    "          elem\n",
    "        }\n",
    "        else {\n",
    "          val List(a, b) = updatedSet.slice(size / 2 - 1, size / 2 + 1).toList.map(_._1)\n",
    "          (a + b) / 2\n",
    "        }\n",
    "      loop(updatedSet, m :: medians, nss)\n",
    "  }\n",
    "\n",
    "  loop(TreeSet.empty[(Int, Int)], Nil, numbers.zipWithIndex)\n",
    "}"
   ]
  },
  {
   "cell_type": "code",
   "execution_count": null,
   "metadata": {
    "slideshow": {
     "slide_type": "slide"
    }
   },
   "outputs": [],
   "source": [
    "val numbers: List[Int] = generateIntList(100000)\n",
    "\n",
    "val t0 = System.nanoTime()\n",
    "val res: List[Int] = calcRunningMedians3(numbers)\n",
    "val t1 = System.nanoTime()\n",
    "println((t1 - t0) / 1e9)"
   ]
  }
 ],
 "metadata": {
  "celltoolbar": "Slideshow",
  "kernelspec": {
   "display_name": "Scala 2.12",
   "language": "scala",
   "name": "scala212"
  },
  "language_info": {
   "codemirror_mode": "text/x-scala",
   "file_extension": ".sc",
   "mimetype": "text/x-scala",
   "name": "scala",
   "nbconvert_exporter": "script",
   "version": "2.12.9"
  }
 },
 "nbformat": 4,
 "nbformat_minor": 2
}
