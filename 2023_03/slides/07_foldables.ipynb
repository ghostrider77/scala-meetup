{
 "cells": [
  {
   "cell_type": "markdown",
   "id": "78cfb4eb",
   "metadata": {
    "slideshow": {
     "slide_type": "slide"
    }
   },
   "source": [
    "# Monoids"
   ]
  },
  {
   "cell_type": "markdown",
   "id": "653d6c80",
   "metadata": {
    "slideshow": {
     "slide_type": "fragment"
    }
   },
   "source": [
    "A set S equipped with a binary operation $S \\times S \\to S$ is a monoid if it satisfies the following two axioms:\n",
    "\n",
    "1. **Associativity**: $\\forall a, b, c\\in S\\quad a(bc) = (ab)c$\n",
    "2. **Identity element**: There exists a neutral element $e \\in S$ such that for every element $a \\in S$, the equalities $ea = ae = a$ hold."
   ]
  },
  {
   "cell_type": "markdown",
   "id": "28a8efdb",
   "metadata": {
    "slideshow": {
     "slide_type": "subslide"
    }
   },
   "source": [
    "```haskell\n",
    "class Monoid a where\n",
    "    mempty :: a\n",
    "    mappend :: a -> a -> a\n",
    "    \n",
    "    mconcat :: [a] -> a\n",
    "    mconcat = foldr mappend empty\n",
    "```\n",
    "\n",
    "Monoid laws:\n",
    "```text\n",
    "mempty `mappend` x = x; x `mappend` mempty = x\n",
    "x `mappend` (y `mappend` z) = (x `mappend` y) `mappend` z\n",
    "```"
   ]
  },
  {
   "cell_type": "code",
   "execution_count": null,
   "id": "2efbe7bb",
   "metadata": {
    "slideshow": {
     "slide_type": "slide"
    }
   },
   "outputs": [],
   "source": [
    "trait Monoid[T] {\n",
    "    def neutral: T\n",
    "    def op(a: T, b: T): T\n",
    "}"
   ]
  },
  {
   "cell_type": "code",
   "execution_count": null,
   "id": "50262b41",
   "metadata": {
    "slideshow": {
     "slide_type": "subslide"
    }
   },
   "outputs": [],
   "source": [
    "val intSumMonoid: Monoid[Int] = new Monoid[Int] {\n",
    "    def neutral: Int = 0\n",
    "    def op(a: Int, b: Int): Int = a + b\n",
    "} \n",
    "\n",
    "implicit val intProdMonoid: Monoid[Int] = new Monoid[Int] {\n",
    "    def neutral: Int = 1\n",
    "    def op(a: Int, b: Int): Int = a * b\n",
    "}\n",
    "\n",
    "implicit def listMonoid[A]: Monoid[List[A]] = new Monoid[List[A]] {\n",
    "    def neutral: List[A] = Nil\n",
    "    def op(xs: List[A], ys: List[A]): List[A] = xs ::: ys \n",
    "}"
   ]
  },
  {
   "cell_type": "code",
   "execution_count": null,
   "id": "29fa0c53",
   "metadata": {
    "slideshow": {
     "slide_type": "subslide"
    }
   },
   "outputs": [],
   "source": [
    "def mappend[T: Monoid](xs: T, ys: T): T = \n",
    "    implicitly[Monoid[T]].op(xs, ys)\n",
    "\n",
    "\n",
    "def mempty[T: Monoid](x: T): T = \n",
    "    implicitly[Monoid[T]].neutral"
   ]
  },
  {
   "cell_type": "code",
   "execution_count": null,
   "id": "6c2c7d67",
   "metadata": {
    "slideshow": {
     "slide_type": "fragment"
    }
   },
   "outputs": [],
   "source": [
    "println(mappend(List(1, 2), List(3)))\n",
    "\n",
    "println(mappend(2, 3))\n",
    "\n",
    "println(mempty(List(\"hello\", \"world\")))"
   ]
  },
  {
   "cell_type": "code",
   "execution_count": null,
   "id": "336d0065",
   "metadata": {
    "slideshow": {
     "slide_type": "subslide"
    }
   },
   "outputs": [],
   "source": [
    "def foldAll[T](xs: List[T])(implicit monoid: Monoid[T]): T =\n",
    "    xs.foldLeft(monoid.neutral)(monoid.op)"
   ]
  },
  {
   "cell_type": "code",
   "execution_count": null,
   "id": "2368e0b5",
   "metadata": {
    "slideshow": {
     "slide_type": "fragment"
    }
   },
   "outputs": [],
   "source": [
    "foldAll(List(1, 2, 3, 4))\n",
    "\n",
    "foldAll(List(List(1, 2), Nil, List(3), List(4, 5)))"
   ]
  },
  {
   "cell_type": "markdown",
   "id": "d782140a",
   "metadata": {
    "slideshow": {
     "slide_type": "slide"
    }
   },
   "source": [
    "# Foldables\n",
    "\n",
    "The main application of Monoids is to combine all values of a data structure to give a single value."
   ]
  },
  {
   "cell_type": "code",
   "execution_count": null,
   "id": "54c7d322",
   "metadata": {
    "slideshow": {
     "slide_type": "subslide"
    }
   },
   "outputs": [],
   "source": [
    "// Foldable is a higher-kinded type (* -> *)\n",
    "\n",
    "trait Foldable[F[_]] {\n",
    "    def foldLeft[A, B](as: F[A])(init: B)(f: (B, A) => B): B\n",
    "    \n",
    "    // def foldRight[A, B](as: F[A])(init: B)(f: (A, B) => B): B\n",
    "    // def concatenate[A](as: F[A])(m: Monoid[A]): A = foldLeft(as)(m.neutral)(m.op)\n",
    "}"
   ]
  },
  {
   "cell_type": "code",
   "execution_count": null,
   "id": "71118d11",
   "metadata": {
    "slideshow": {
     "slide_type": "subslide"
    }
   },
   "outputs": [],
   "source": [
    "implicit val listFold: Foldable[List] = new Foldable[List] {\n",
    "    def foldLeft[A, B](as: List[A])(init: B)(f: (B, A) => B): B = as.foldLeft(init)(f)   \n",
    "}"
   ]
  },
  {
   "cell_type": "code",
   "execution_count": null,
   "id": "679ed17c",
   "metadata": {
    "slideshow": {
     "slide_type": "subslide"
    }
   },
   "outputs": [],
   "source": [
    "def foldLeft[A, B, F[_]](xs: F[A])(init: B)(f: (B, A) => B)(implicit foldable: Foldable[F]): B = \n",
    "    foldable.foldLeft(xs)(init)(f)"
   ]
  },
  {
   "cell_type": "code",
   "execution_count": null,
   "id": "41e003ea",
   "metadata": {
    "slideshow": {
     "slide_type": "fragment"
    }
   },
   "outputs": [],
   "source": [
    "foldLeft(List(1, 2, 3))(0)(_ + _)\n",
    "\n",
    "foldLeft(List(\"Hello\", \" \", \"world!\"))(\"\")(_ + _)"
   ]
  },
  {
   "cell_type": "code",
   "execution_count": null,
   "id": "92ec494f",
   "metadata": {
    "slideshow": {
     "slide_type": "slide"
    }
   },
   "outputs": [],
   "source": [
    "sealed trait BinaryTree[+T]\n",
    "\n",
    "case object Leaf extends BinaryTree[Nothing]\n",
    "case class Node[T](left: BinaryTree[T], value: T, right: BinaryTree[T]) extends BinaryTree[T]"
   ]
  },
  {
   "cell_type": "code",
   "execution_count": null,
   "id": "2544a027",
   "metadata": {
    "slideshow": {
     "slide_type": "subslide"
    }
   },
   "outputs": [],
   "source": [
    "val tree: BinaryTree[Int] = Node(Node(Leaf, 1, Leaf), 10, Node(Leaf, 20, Node(Leaf, 30, Leaf)))"
   ]
  },
  {
   "cell_type": "code",
   "execution_count": null,
   "id": "7606fe06",
   "metadata": {
    "slideshow": {
     "slide_type": "subslide"
    }
   },
   "outputs": [],
   "source": [
    "implicit object TreeFoldable extends Foldable[BinaryTree] {\n",
    "  def foldLeft[A, B](tree: BinaryTree[A])(init: B)(f: (B, A) => B): B = tree match {\n",
    "      case Leaf => init\n",
    "      case Node(left, value, right) =>\n",
    "          val acc: B = foldLeft(left)(f(init, value))(f) \n",
    "          foldLeft(right)(acc)(f)\n",
    "  }\n",
    "}"
   ]
  },
  {
   "cell_type": "code",
   "execution_count": null,
   "id": "874bce74",
   "metadata": {
    "slideshow": {
     "slide_type": "subslide"
    }
   },
   "outputs": [],
   "source": [
    "foldLeft(tree)(0)(_ + _)\n",
    "\n",
    "foldLeft(tree)(1)(_ * _)"
   ]
  }
 ],
 "metadata": {
  "celltoolbar": "Slideshow",
  "kernelspec": {
   "display_name": "Scala 2.13",
   "language": "scala",
   "name": "scala213"
  },
  "language_info": {
   "codemirror_mode": "text/x-scala",
   "file_extension": ".sc",
   "mimetype": "text/x-scala",
   "name": "scala",
   "nbconvert_exporter": "script",
   "version": "2.13.4"
  }
 },
 "nbformat": 4,
 "nbformat_minor": 5
}
