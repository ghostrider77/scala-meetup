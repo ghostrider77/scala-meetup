{
 "cells": [
  {
   "cell_type": "markdown",
   "id": "0f530cae",
   "metadata": {
    "slideshow": {
     "slide_type": "slide"
    }
   },
   "source": [
    "# Common patterns - mappable things"
   ]
  },
  {
   "cell_type": "code",
   "execution_count": null,
   "id": "c424cc85",
   "metadata": {
    "slideshow": {
     "slide_type": "slide"
    }
   },
   "outputs": [],
   "source": [
    ":t map"
   ]
  },
  {
   "cell_type": "code",
   "execution_count": null,
   "id": "c8cbd532",
   "metadata": {
    "slideshow": {
     "slide_type": "slide"
    }
   },
   "outputs": [],
   "source": [
    "print $ map (2*) [1, 2, 3]\n",
    "\n",
    "print $ map (\\name -> \"Hello, \" ++ name ++ \"!\") [\"Ann\", \"Bob\"]"
   ]
  },
  {
   "cell_type": "code",
   "execution_count": null,
   "id": "9de577ad",
   "metadata": {
    "slideshow": {
     "slide_type": "slide"
    }
   },
   "outputs": [],
   "source": [
    "data Option a = None | Some a deriving Show"
   ]
  },
  {
   "cell_type": "code",
   "execution_count": null,
   "id": "8173cd48",
   "metadata": {
    "slideshow": {
     "slide_type": "fragment"
    }
   },
   "outputs": [],
   "source": [
    "let a = Some 10\n",
    "\n",
    "print a"
   ]
  },
  {
   "cell_type": "code",
   "execution_count": null,
   "id": "9a8fc232",
   "metadata": {
    "slideshow": {
     "slide_type": "subslide"
    }
   },
   "outputs": [],
   "source": [
    "-- map :: forall a b. (a -> b) -> [a] -> [b]\n",
    "\n",
    "optionMap :: (a -> b) -> Option a -> Option b\n",
    "optionMap _ None = None\n",
    "optionMap f (Some x) = Some (f x)\n",
    "\n",
    "\n",
    "optionMap (*2) a"
   ]
  },
  {
   "cell_type": "code",
   "execution_count": null,
   "id": "73931ef0",
   "metadata": {
    "slideshow": {
     "slide_type": "slide"
    }
   },
   "outputs": [],
   "source": [
    "data Tree a = Leaf | Node (Tree a) a (Tree a) deriving Show\n",
    "\n",
    "tree = Node (Node Leaf 5 Leaf) 10 (Node Leaf 20 Leaf)"
   ]
  },
  {
   "cell_type": "code",
   "execution_count": null,
   "id": "56410f95",
   "metadata": {
    "slideshow": {
     "slide_type": "fragment"
    }
   },
   "outputs": [],
   "source": [
    "-- map :: forall a b. (a -> b) -> [a] -> [b]\n",
    "\n",
    "treeMap :: (a -> b) -> Tree a -> Tree b\n",
    "treeMap _ Leaf = Leaf\n",
    "treeMap f (Node left value right) = Node (treeMap f left) (f value) (treeMap f right)\n",
    "\n",
    "\n",
    "treeMap (*2) tree"
   ]
  },
  {
   "cell_type": "markdown",
   "id": "24ddb0ed",
   "metadata": {
    "slideshow": {
     "slide_type": "slide"
    }
   },
   "source": [
    "Is there a more general function that works for many different contexts? \n",
    "\n",
    "```haskell\n",
    "type Functor :: (* -> *) -> Constraint\n",
    "\n",
    "class Functor f where\n",
    "    fmap :: (a -> b) -> f a -> f b\n",
    "    (<$) :: a -> f b -> f a\n",
    "    \n",
    "    {-# MINIMAL fmap #-}\n",
    "```\n",
    "\n",
    "`fmap` takes an `a -> b` function and an `f a` data type (`a` wrapped in any context `f`). The function is applied to what's inside the context, and a value of type `b` wrapped in `f` is returned. The value can change (by applying the provided function), but the context remains the same."
   ]
  },
  {
   "cell_type": "code",
   "execution_count": null,
   "id": "3493a108",
   "metadata": {
    "slideshow": {
     "slide_type": "slide"
    }
   },
   "outputs": [],
   "source": [
    "print $ fmap (*2) [1, 2, 3]\n",
    "\n",
    "print $ fmap reverse [\"hello\", \"world\"]"
   ]
  },
  {
   "cell_type": "code",
   "execution_count": null,
   "id": "b3b63653",
   "metadata": {
    "slideshow": {
     "slide_type": "fragment"
    }
   },
   "outputs": [],
   "source": [
    "(*2) <$> [1, 2, 3]\n",
    "\n",
    "reverse <$> [\"hello\", \"world\"]"
   ]
  },
  {
   "cell_type": "code",
   "execution_count": null,
   "id": "4ba4f8ae",
   "metadata": {
    "slideshow": {
     "slide_type": "subslide"
    }
   },
   "outputs": [],
   "source": [
    "instance Functor Option where\n",
    "    fmap _ None = None\n",
    "    fmap g (Some x) = Some (g x)"
   ]
  },
  {
   "cell_type": "code",
   "execution_count": null,
   "id": "26d1f5b8",
   "metadata": {
    "slideshow": {
     "slide_type": "fragment"
    }
   },
   "outputs": [],
   "source": [
    "(*2) <$> Some 20"
   ]
  },
  {
   "cell_type": "code",
   "execution_count": null,
   "id": "e4ac290d",
   "metadata": {
    "slideshow": {
     "slide_type": "subslide"
    }
   },
   "outputs": [],
   "source": [
    "instance Functor Tree where\n",
    "    fmap _ Leaf = Leaf\n",
    "    fmap g (Node left value right) = Node (fmap g left) (g value) (fmap g right)"
   ]
  },
  {
   "cell_type": "code",
   "execution_count": null,
   "id": "980a7141",
   "metadata": {
    "slideshow": {
     "slide_type": "fragment"
    }
   },
   "outputs": [],
   "source": [
    "print $ fmap (*2) tree"
   ]
  },
  {
   "cell_type": "markdown",
   "id": "b4869e18",
   "metadata": {
    "slideshow": {
     "slide_type": "slide"
    }
   },
   "source": [
    "The kind of Functor is `(* -> *) -> Constraint`, so we can implement Functor for types whose kind is `* -> *`, that is, something that can consume a type and returns a type. In other words, we can implement Functor for types that have one unapplied type variable.\n",
    "\n",
    "We cannot implement Functor for `Int`, `String`, `Person`, etc. types (the kind of these things is `*`), but we can implement for `[]`, `Maybe`, `Tree`, etc. \n",
    "\n",
    "We can implement a Functor instance for a thing if it is\n",
    "* `* -> *` (that is, `Type -> Type`)\n",
    "* Functor laws"
   ]
  },
  {
   "cell_type": "code",
   "execution_count": null,
   "id": "1bf71d29",
   "metadata": {
    "slideshow": {
     "slide_type": "subslide"
    }
   },
   "outputs": [],
   "source": [
    ":kind Tree"
   ]
  },
  {
   "cell_type": "markdown",
   "id": "1975b975",
   "metadata": {
    "slideshow": {
     "slide_type": "subslide"
    }
   },
   "source": [
    "Some of the typeclasses have laws, that is, conditions that instances have to meet. These laws usually come from the math concept of the same name.\n",
    "\n",
    "\n",
    "1. identity\n",
    "\n",
    "`fmap id x == id x`\n",
    "\n",
    "\n",
    "2. composition\n",
    "\n",
    "`fmap f (fmap g x) == fmap (f . g) x` "
   ]
  }
 ],
 "metadata": {
  "celltoolbar": "Slideshow",
  "kernelspec": {
   "display_name": "Haskell",
   "language": "haskell",
   "name": "haskell"
  },
  "language_info": {
   "codemirror_mode": "ihaskell",
   "file_extension": ".hs",
   "mimetype": "text/x-haskell",
   "name": "haskell",
   "pygments_lexer": "Haskell",
   "version": "8.10.7"
  }
 },
 "nbformat": 4,
 "nbformat_minor": 5
}
