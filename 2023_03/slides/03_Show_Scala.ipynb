{
 "cells": [
  {
   "cell_type": "code",
   "execution_count": null,
   "id": "b198e5e7",
   "metadata": {
    "slideshow": {
     "slide_type": "slide"
    }
   },
   "outputs": [],
   "source": [
    "trait Show[T] {\n",
    "  def show(x: T): String\n",
    "}\n",
    "\n",
    "object Show {\n",
    "  implicit val intShow: Show[Int] = new Show[Int] {\n",
    "    def show(n: Int): String = s\"Int($n)\"\n",
    "  }\n",
    "\n",
    "  implicit val stringShow: Show[String] = new Show[String] {\n",
    "    def show(s: String): String = s\"\"\"String(\"$s\")\"\"\"\n",
    "  }\n",
    "}"
   ]
  },
  {
   "cell_type": "code",
   "execution_count": null,
   "id": "01fe708e",
   "metadata": {
    "slideshow": {
     "slide_type": "subslide"
    }
   },
   "outputs": [],
   "source": [
    "def show[T](x: T)(implicit instance: Show[T]): String =\n",
    "    instance.show(x)"
   ]
  },
  {
   "cell_type": "markdown",
   "id": "0c9941b4",
   "metadata": {
    "slideshow": {
     "slide_type": "fragment"
    }
   },
   "source": [
    "```scala\n",
    "def show[T: Show](x: T): String =\n",
    "    implicitly[Show[T]].show(x)\n",
    "```"
   ]
  },
  {
   "cell_type": "code",
   "execution_count": null,
   "id": "31bb64f2",
   "metadata": {
    "slideshow": {
     "slide_type": "fragment"
    }
   },
   "outputs": [],
   "source": [
    "println(show(100))\n",
    "\n",
    "println(show(\"Hello\"))"
   ]
  },
  {
   "cell_type": "code",
   "execution_count": null,
   "id": "4a5e6d0d",
   "metadata": {
    "slideshow": {
     "slide_type": "subslide"
    }
   },
   "outputs": [],
   "source": [
    "class Person(val name: String, val age: Int)\n",
    "\n",
    "object Person {\n",
    "  implicit val personShow: Show[Person] = new Show[Person] {\n",
    "    def show(p: Person): String = s\"Person(name: ${p.name}, age: ${p.age})\"\n",
    "  }\n",
    "}"
   ]
  },
  {
   "cell_type": "code",
   "execution_count": null,
   "id": "507343f2",
   "metadata": {
    "slideshow": {
     "slide_type": "fragment"
    }
   },
   "outputs": [],
   "source": [
    "val joe: Person = new Person(\"Joe\", 30)\n",
    "\n",
    "println(show(joe))"
   ]
  },
  {
   "cell_type": "code",
   "execution_count": null,
   "id": "4c725277",
   "metadata": {
    "slideshow": {
     "slide_type": "slide"
    }
   },
   "outputs": [],
   "source": [
    "trait Show[T] {\n",
    "  def show(x: T): String\n",
    "}\n",
    "\n",
    "object Show {\n",
    "  def apply[T](implicit instance: Show[T]): Show[T] = implicitly[Show[T]]\n",
    "\n",
    "  implicit val intShow: Show[Int] = new Show[Int] {\n",
    "    def show(n: Int): String = s\"Int($n)\"\n",
    "  }\n",
    "\n",
    "  implicit val stringShow: Show[String] = new Show[String] {\n",
    "    def show(s: String): String = s\"\"\"String(\"$s\")\"\"\"\n",
    "  }\n",
    "}"
   ]
  },
  {
   "cell_type": "code",
   "execution_count": null,
   "id": "978fd543",
   "metadata": {
    "slideshow": {
     "slide_type": "subslide"
    }
   },
   "outputs": [],
   "source": [
    "implicit val personShow: Show[Person] = new Show[Person] {\n",
    "  def show(p: Person): String = s\"Person(name: ${p.name}, age: ${p.age})\"\n",
    "}"
   ]
  },
  {
   "cell_type": "code",
   "execution_count": null,
   "id": "5b0cee02",
   "metadata": {
    "slideshow": {
     "slide_type": "fragment"
    }
   },
   "outputs": [],
   "source": [
    "println(Show[Int].show(123))\n",
    "println(Show[String].show(\"Ahoy\"))\n",
    "println(Show[Person].show(new Person(\"Ann\", 20)))"
   ]
  }
 ],
 "metadata": {
  "celltoolbar": "Slideshow",
  "kernelspec": {
   "display_name": "Scala 2.13",
   "language": "scala",
   "name": "scala213"
  },
  "language_info": {
   "codemirror_mode": "text/x-scala",
   "file_extension": ".sc",
   "mimetype": "text/x-scala",
   "name": "scala",
   "nbconvert_exporter": "script",
   "version": "2.13.4"
  }
 },
 "nbformat": 4,
 "nbformat_minor": 5
}
