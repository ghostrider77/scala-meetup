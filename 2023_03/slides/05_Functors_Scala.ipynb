{
 "cells": [
  {
   "cell_type": "code",
   "execution_count": null,
   "id": "1615060d",
   "metadata": {
    "slideshow": {
     "slide_type": "slide"
    }
   },
   "outputs": [],
   "source": [
    "trait Functor[F[_]] {\n",
    "  def map[A, B](fa: F[A])(f: A => B): F[B]\n",
    "}\n",
    "\n",
    "object Functor {\n",
    "  implicit val listFunctor: Functor[List] = new Functor[List] {\n",
    "    def map[A, B](as: List[A])(f: A => B): List[B] = as.map(f)\n",
    "  }\n",
    "\n",
    "  implicit val optionFunctor: Functor[Option] = new Functor[Option] {\n",
    "    def map[A, B](opt: Option[A])(f: A => B): Option[B] = opt match {\n",
    "      case None => None\n",
    "      case Some(x) => Some(f(x))\n",
    "    }\n",
    "  }\n",
    "}"
   ]
  },
  {
   "cell_type": "code",
   "execution_count": null,
   "id": "4aee63cd",
   "metadata": {
    "slideshow": {
     "slide_type": "subslide"
    }
   },
   "outputs": [],
   "source": [
    "def fmap[A, B, F[_]](fa: F[A])(f: A => B)(implicit instance: Functor[F]): F[B] = \n",
    "    instance.map(fa)(f)"
   ]
  },
  {
   "cell_type": "code",
   "execution_count": null,
   "id": "b4238076",
   "metadata": {
    "slideshow": {
     "slide_type": "subslide"
    }
   },
   "outputs": [],
   "source": [
    "val missingOpt: Option[Int] = None\n",
    "val maybeTen: Option[Int] = Some(10)\n",
    "val stringList: List[String] = List(\"Hello\", \"world\")"
   ]
  },
  {
   "cell_type": "code",
   "execution_count": null,
   "id": "45da861e",
   "metadata": {
    "slideshow": {
     "slide_type": "subslide"
    }
   },
   "outputs": [],
   "source": [
    "println(fmap(missingOpt)(_ / 2))\n",
    "println(fmap(maybeTen)(_ * 2))\n",
    "println(fmap(stringList)(_.reverse))"
   ]
  },
  {
   "cell_type": "code",
   "execution_count": null,
   "id": "d6b6e42e",
   "metadata": {
    "slideshow": {
     "slide_type": "subslide"
    }
   },
   "outputs": [],
   "source": [
    "sealed trait BinaryTree[+T]\n",
    "\n",
    "case object Leaf extends BinaryTree[Nothing]\n",
    "case class Node[T](left: BinaryTree[T], value: T, right: BinaryTree[T]) extends BinaryTree[T]\n",
    "\n",
    "\n",
    "object BinaryTree {\n",
    "  implicit val treeFunctor: Functor[BinaryTree] = new Functor[BinaryTree] {\n",
    "    def map[A, B](fa: BinaryTree[A])(f: A => B): BinaryTree[B] = fa match {\n",
    "      case Leaf => Leaf\n",
    "      case Node(left, value, right) => Node(map(left)(f), f(value), map(right)(f))\n",
    "    }\n",
    "  }\n",
    "}"
   ]
  },
  {
   "cell_type": "code",
   "execution_count": null,
   "id": "631ec338",
   "metadata": {
    "slideshow": {
     "slide_type": "subslide"
    }
   },
   "outputs": [],
   "source": [
    "val tree: BinaryTree[Long] = Node(Node(Leaf, 1, Leaf), 10, Node(Leaf, 20, Node(Leaf, 30, Leaf)))"
   ]
  },
  {
   "cell_type": "markdown",
   "id": "14fff4c5",
   "metadata": {
    "slideshow": {
     "slide_type": "subslide"
    }
   },
   "source": [
    "![](img/tree_example.png)"
   ]
  },
  {
   "cell_type": "code",
   "execution_count": null,
   "id": "8909cad8",
   "metadata": {
    "slideshow": {
     "slide_type": "subslide"
    }
   },
   "outputs": [],
   "source": [
    "fmap(tree)(_ * 2)"
   ]
  }
 ],
 "metadata": {
  "celltoolbar": "Slideshow",
  "kernelspec": {
   "display_name": "Scala 2.13",
   "language": "scala",
   "name": "scala213"
  },
  "language_info": {
   "codemirror_mode": "text/x-scala",
   "file_extension": ".sc",
   "mimetype": "text/x-scala",
   "name": "scala",
   "nbconvert_exporter": "script",
   "version": "2.13.4"
  }
 },
 "nbformat": 4,
 "nbformat_minor": 5
}
