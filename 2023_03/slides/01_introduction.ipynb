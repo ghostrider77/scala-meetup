{
 "cells": [
  {
   "cell_type": "markdown",
   "id": "22cd51fa",
   "metadata": {
    "slideshow": {
     "slide_type": "slide"
    }
   },
   "source": [
    "\n",
    "# A gentle introduction to type classes in Scala\n",
    "\n",
    "###  Functors, monads and other functional programming patterns as a way to structure program design"
   ]
  },
  {
   "cell_type": "markdown",
   "id": "b9e40700",
   "metadata": {
    "slideshow": {
     "slide_type": "subslide"
    }
   },
   "source": [
    "In this talk we will cover\n",
    "* what type classes are\n",
    "* where they are come from\n",
    "* what are the common patterns\n",
    "* how they are supported in Scala"
   ]
  },
  {
   "cell_type": "markdown",
   "id": "4b108bce",
   "metadata": {
    "slideshow": {
     "slide_type": "subslide"
    }
   },
   "source": [
    "In computer science, a type class is a type system construct that supports ad hoc polymorphism. \n",
    "\n",
    "This is achieved by adding constraints to type variables in parametrically polymorphic types. Such a constraint typically involves a type class `T` and a type variable `a`, and means that `a` can only be instantiated to a type whose members support the overloaded operations associated with `T`. \n",
    "\n",
    "https://en.wikipedia.org/wiki/Type_class"
   ]
  },
  {
   "cell_type": "markdown",
   "id": "2e020d8d",
   "metadata": {
    "slideshow": {
     "slide_type": "subslide"
    }
   },
   "source": [
    "<center>\n",
    "<img src=\"img/scala-book.jpg\" height=\"600\">\n",
    "</center>"
   ]
  },
  {
   "cell_type": "markdown",
   "id": "622b7488",
   "metadata": {
    "slideshow": {
     "slide_type": "subslide"
    }
   },
   "source": [
    "<center>\n",
    "<img src=\"img/scala-fp.png\" height=\"800\">\n",
    "</center>"
   ]
  },
  {
   "cell_type": "markdown",
   "id": "c9251a60",
   "metadata": {
    "slideshow": {
     "slide_type": "subslide"
    }
   },
   "source": [
    "<center>\n",
    "<img src=\"img/haskell-book.jpg\" height=\"800\">\n",
    "</center>"
   ]
  },
  {
   "cell_type": "markdown",
   "id": "ef000b3e",
   "metadata": {
    "slideshow": {
     "slide_type": "subslide"
    }
   },
   "source": [
    "<center>\n",
    "<img src=\"img/bartosz.jpg\" height=\"800\">\n",
    "</center>"
   ]
  },
  {
   "cell_type": "code",
   "execution_count": null,
   "id": "b57d1de8",
   "metadata": {
    "slideshow": {
     "slide_type": "slide"
    }
   },
   "outputs": [],
   "source": [
    "class Person(val name: String, val age: Int)"
   ]
  },
  {
   "cell_type": "code",
   "execution_count": null,
   "id": "4e42eb42",
   "metadata": {
    "slideshow": {
     "slide_type": "fragment"
    }
   },
   "outputs": [],
   "source": [
    "val ann = new Person(\"Ann\", 30)"
   ]
  },
  {
   "cell_type": "code",
   "execution_count": null,
   "id": "50dab618",
   "metadata": {
    "slideshow": {
     "slide_type": "fragment"
    }
   },
   "outputs": [],
   "source": [
    "println(ann)"
   ]
  },
  {
   "cell_type": "code",
   "execution_count": null,
   "id": "8643046a",
   "metadata": {
    "slideshow": {
     "slide_type": "slide"
    }
   },
   "outputs": [],
   "source": [
    "class Person(val name: String, val age: Int) {\n",
    "    override def toString: String = s\"Person(name: $name, age: $age)\"\n",
    "}"
   ]
  },
  {
   "cell_type": "code",
   "execution_count": null,
   "id": "10280bdb",
   "metadata": {
    "slideshow": {
     "slide_type": "fragment"
    }
   },
   "outputs": [],
   "source": [
    "val ann = new Person(\"Ann\", 30)"
   ]
  },
  {
   "cell_type": "code",
   "execution_count": null,
   "id": "26b4b8af",
   "metadata": {
    "slideshow": {
     "slide_type": "fragment"
    }
   },
   "outputs": [],
   "source": [
    "val anotherAnn = new Person(\"Ann\", 30)\n",
    "val bob = new Person(\"Bob\", 40)"
   ]
  },
  {
   "cell_type": "code",
   "execution_count": null,
   "id": "c9454932",
   "metadata": {
    "slideshow": {
     "slide_type": "fragment"
    }
   },
   "outputs": [],
   "source": [
    "println(ann == anotherAnn)\n",
    "\n",
    "println(ann == bob)"
   ]
  },
  {
   "cell_type": "code",
   "execution_count": null,
   "id": "03692030",
   "metadata": {
    "slideshow": {
     "slide_type": "slide"
    }
   },
   "outputs": [],
   "source": [
    "class Person(val name: String, val age: Int) {\n",
    "    override def toString: String = s\"Person(name: $name, age: $age)\"\n",
    "    \n",
    "    override def hashCode: Int = 41 * name.hashCode + age.hashCode\n",
    "    \n",
    "    override def equals(other: Any): Boolean = other match {\n",
    "        case that: Person => name == that.name && age == that.age\n",
    "        case _ => false\n",
    "    }\n",
    "}"
   ]
  },
  {
   "cell_type": "code",
   "execution_count": null,
   "id": "2293e386",
   "metadata": {
    "slideshow": {
     "slide_type": "subslide"
    }
   },
   "outputs": [],
   "source": [
    "val ann = new Person(\"Ann\", 30)\n",
    "val anotherAnn = new Person(\"Ann\", 30)\n",
    "val bob = new Person(\"Bob\", 40)"
   ]
  },
  {
   "cell_type": "code",
   "execution_count": null,
   "id": "3eea0dd2",
   "metadata": {
    "slideshow": {
     "slide_type": "fragment"
    }
   },
   "outputs": [],
   "source": [
    "println(ann == anotherAnn)\n",
    "\n",
    "println(ann == bob)"
   ]
  },
  {
   "cell_type": "code",
   "execution_count": null,
   "id": "24f71d3b",
   "metadata": {
    "slideshow": {
     "slide_type": "fragment"
    }
   },
   "outputs": [],
   "source": [
    "ann <= anotherAnn"
   ]
  },
  {
   "cell_type": "markdown",
   "id": "b195f185",
   "metadata": {
    "slideshow": {
     "slide_type": "slide"
    }
   },
   "source": [
    "For ordering we can mix in the Ordered trait.\n",
    "\n",
    "By defining a single `compare` method, the trait automatically provides implementation for all the comparison operators `<`, `<=`, `>`, `>=`."
   ]
  },
  {
   "cell_type": "code",
   "execution_count": null,
   "id": "f35cc94b",
   "metadata": {
    "slideshow": {
     "slide_type": "slide"
    }
   },
   "outputs": [],
   "source": [
    "class Person(val name: String, val age: Int) extends Ordered[Person] {\n",
    "    override def toString: String = s\"Person(name: $name, age: $age)\"\n",
    "    \n",
    "    override def hashCode: Int = 41 * name.hashCode + age.hashCode\n",
    "    \n",
    "    override def equals(other: Any): Boolean = other match {\n",
    "        case that: Person => name == that.name && age == that.age\n",
    "        case _ => false\n",
    "    }\n",
    "    \n",
    "    def compare(other: Person): Int = this.age - other.age\n",
    "}"
   ]
  },
  {
   "cell_type": "code",
   "execution_count": null,
   "id": "020b7db7",
   "metadata": {
    "slideshow": {
     "slide_type": "subslide"
    }
   },
   "outputs": [],
   "source": [
    "val ann = new Person(\"Ann\", 30)\n",
    "val anotherAnn = new Person(\"Ann\", 30)\n",
    "val bob = new Person(\"Bob\", 40)\n",
    "val joe = new Person(\"Joe\", 35)"
   ]
  },
  {
   "cell_type": "code",
   "execution_count": null,
   "id": "62460840",
   "metadata": {
    "slideshow": {
     "slide_type": "fragment"
    }
   },
   "outputs": [],
   "source": [
    "println(ann < bob)\n",
    "println(bob < joe)"
   ]
  },
  {
   "cell_type": "code",
   "execution_count": null,
   "id": "2355d49c",
   "metadata": {
    "slideshow": {
     "slide_type": "subslide"
    }
   },
   "outputs": [],
   "source": [
    "def insertionSortUpperBound[T <: Ordered[T]](xs: List[T]): List[T] = {\n",
    "    def insert(item: T, ys: List[T]): List[T] = ys match {\n",
    "        case Nil => List(item)\n",
    "        case y :: yss => if (item < y) item :: ys else y :: insert(item, yss) \n",
    "    }\n",
    "    \n",
    "    xs match {\n",
    "        case Nil => Nil\n",
    "        case x :: xss => insert(x, insertionSortUpperBound(xss))\n",
    "    }\n",
    "}"
   ]
  },
  {
   "cell_type": "code",
   "execution_count": null,
   "id": "ca5c3085",
   "metadata": {
    "slideshow": {
     "slide_type": "subslide"
    }
   },
   "outputs": [],
   "source": [
    "insertionSortUpperBound(List(bob, ann, joe, anotherAnn))"
   ]
  },
  {
   "cell_type": "code",
   "execution_count": null,
   "id": "52e9e680",
   "metadata": {
    "slideshow": {
     "slide_type": "fragment"
    }
   },
   "outputs": [],
   "source": [
    "insertionSortUpperBound(List(4, 3, 5, 1))"
   ]
  },
  {
   "cell_type": "code",
   "execution_count": null,
   "id": "d9e32167",
   "metadata": {
    "slideshow": {
     "slide_type": "subslide"
    }
   },
   "outputs": [],
   "source": [
    "class Person(val name: String, val age: Int) {\n",
    "    override def toString: String = s\"Person(name: $name, age: $age)\"\n",
    "    \n",
    "    override def hashCode: Int = 41 * name.hashCode + age.hashCode\n",
    "    \n",
    "    override def equals(other: Any): Boolean = other match {\n",
    "        case that: Person => name == that.name && age == that.age\n",
    "        case _ => false\n",
    "    }\n",
    "}\n",
    "\n",
    "object Person {\n",
    "    implicit val ageOrdering: Ordering[Person] = new Ordering[Person] {\n",
    "        def compare(p1: Person, p2: Person): Int = p1.age compare p2.age\n",
    "    }\n",
    "}"
   ]
  },
  {
   "cell_type": "code",
   "execution_count": null,
   "id": "643d114c",
   "metadata": {
    "slideshow": {
     "slide_type": "subslide"
    }
   },
   "outputs": [],
   "source": [
    "val ann = new Person(\"Ann\", 30)\n",
    "val anotherAnn = new Person(\"Ann\", 30)\n",
    "val bob = new Person(\"Bob\", 40)\n",
    "val joe = new Person(\"Joe\", 35)"
   ]
  },
  {
   "cell_type": "code",
   "execution_count": null,
   "id": "821fa1d5",
   "metadata": {
    "slideshow": {
     "slide_type": "subslide"
    }
   },
   "outputs": [],
   "source": [
    "def insertionSortOrdering[T](xs: List[T])(implicit ord: Ordering[T]): List[T] = {\n",
    "    def insert(item: T, ys: List[T]): List[T] = ys match {\n",
    "        case Nil => List(item)\n",
    "        case y :: yss => \n",
    "            if (ord.lt(item, y)) item :: ys \n",
    "            else y :: insert(item, yss) \n",
    "    }\n",
    "    \n",
    "    xs match {\n",
    "        case Nil => Nil\n",
    "        case x :: xss => insert(x, insertionSortOrdering(xss))\n",
    "    }\n",
    "}"
   ]
  },
  {
   "cell_type": "code",
   "execution_count": null,
   "id": "85118743",
   "metadata": {
    "slideshow": {
     "slide_type": "subslide"
    }
   },
   "outputs": [],
   "source": [
    "insertionSortOrdering(List(bob, ann, joe, anotherAnn))"
   ]
  },
  {
   "cell_type": "code",
   "execution_count": null,
   "id": "307b6bfe",
   "metadata": {
    "slideshow": {
     "slide_type": "fragment"
    }
   },
   "outputs": [],
   "source": [
    "insertionSortOrdering(List(bob, ann, joe, anotherAnn))(Ordering[Person].reverse)"
   ]
  },
  {
   "cell_type": "code",
   "execution_count": null,
   "id": "0f39649f",
   "metadata": {
    "slideshow": {
     "slide_type": "fragment"
    }
   },
   "outputs": [],
   "source": [
    "insertionSortOrdering(List(4, 3, 5, 1))"
   ]
  },
  {
   "cell_type": "code",
   "execution_count": null,
   "id": "6a2bef23",
   "metadata": {
    "slideshow": {
     "slide_type": "subslide"
    }
   },
   "outputs": [],
   "source": [
    "def insertionSort[T: Ordering](xs: List[T]): List[T] = {\n",
    "    def insert(item: T, ys: List[T]): List[T] = ys match {\n",
    "        case Nil => List(item)\n",
    "        case y :: yss => \n",
    "            if (implicitly[Ordering[T]].lt(item, y)) item :: ys \n",
    "            else y :: insert(item, yss)\n",
    "    }\n",
    "    \n",
    "    xs match {\n",
    "        case Nil => Nil\n",
    "        case x :: xss => insert(x, insertionSort(xss))\n",
    "    }\n",
    "}"
   ]
  },
  {
   "cell_type": "code",
   "execution_count": null,
   "id": "2f1dc5a9",
   "metadata": {
    "slideshow": {
     "slide_type": "subslide"
    }
   },
   "outputs": [],
   "source": [
    "insertionSort(List(bob, ann, joe, anotherAnn))"
   ]
  },
  {
   "cell_type": "code",
   "execution_count": null,
   "id": "53f0dc03",
   "metadata": {
    "slideshow": {
     "slide_type": "subslide"
    }
   },
   "outputs": [],
   "source": [
    "insertionSort(List(bob, ann, joe, anotherAnn))(Ordering[Person].reverse)"
   ]
  },
  {
   "cell_type": "code",
   "execution_count": null,
   "id": "1318a94c",
   "metadata": {
    "slideshow": {
     "slide_type": "fragment"
    }
   },
   "outputs": [],
   "source": [
    "insertionSort(List(1L, 3L, 2L))"
   ]
  },
  {
   "cell_type": "code",
   "execution_count": null,
   "id": "2f3645ce",
   "metadata": {
    "slideshow": {
     "slide_type": "slide"
    }
   },
   "outputs": [],
   "source": [
    "class Person(val name: String, val age: Int) {\n",
    "    override def toString: String = s\"Person(name: $name, age: $age)\"\n",
    "    \n",
    "    override def hashCode: Int = 41 * name.hashCode + age.hashCode\n",
    "    \n",
    "    override def equals(other: Any): Boolean = other match {\n",
    "        case that: Person => name == that.name && age == that.age\n",
    "        case _ => false\n",
    "    }\n",
    "}\n",
    "\n",
    "object Person {\n",
    "    implicit val ageOrdering: Ordering[Person] = new Ordering[Person] {\n",
    "        def compare(p1: Person, p2: Person): Int = p1.age compare p2.age\n",
    "    }\n",
    "    \n",
    "    implicit val nameOrdering: Ordering[Person] = new Ordering[Person] {\n",
    "        def compare(p1: Person, p2: Person): Int = p1.name compare p2.name\n",
    "    }\n",
    "}"
   ]
  },
  {
   "cell_type": "code",
   "execution_count": null,
   "id": "1cec50ea",
   "metadata": {
    "slideshow": {
     "slide_type": "subslide"
    }
   },
   "outputs": [],
   "source": [
    "val ann = new Person(\"Ann\", 30)\n",
    "val anotherAnn = new Person(\"Ann\", 30)\n",
    "val bob = new Person(\"Bob\", 40)\n",
    "val joe = new Person(\"Joe\", 35)"
   ]
  },
  {
   "cell_type": "code",
   "execution_count": null,
   "id": "9ab193e9",
   "metadata": {
    "slideshow": {
     "slide_type": "subslide"
    }
   },
   "outputs": [],
   "source": [
    "insertionSort(List(bob, ann, joe, anotherAnn))"
   ]
  },
  {
   "cell_type": "code",
   "execution_count": null,
   "id": "f0ad159f",
   "metadata": {
    "slideshow": {
     "slide_type": "subslide"
    }
   },
   "outputs": [],
   "source": [
    "insertionSort(List(bob, ann, joe, anotherAnn))(Person.nameOrdering)"
   ]
  }
 ],
 "metadata": {
  "celltoolbar": "Slideshow",
  "kernelspec": {
   "display_name": "Scala 2.13",
   "language": "scala",
   "name": "scala213"
  },
  "language_info": {
   "codemirror_mode": "text/x-scala",
   "file_extension": ".sc",
   "mimetype": "text/x-scala",
   "name": "scala",
   "nbconvert_exporter": "script",
   "version": "2.13.4"
  }
 },
 "nbformat": 4,
 "nbformat_minor": 5
}
