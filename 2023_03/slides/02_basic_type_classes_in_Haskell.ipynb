{
 "cells": [
  {
   "cell_type": "markdown",
   "id": "0f530cae",
   "metadata": {
    "slideshow": {
     "slide_type": "slide"
    }
   },
   "source": [
    "# Type classes in Haskell"
   ]
  },
  {
   "cell_type": "markdown",
   "id": "4c3f9faf",
   "metadata": {
    "slideshow": {
     "slide_type": "subslide"
    }
   },
   "source": [
    "Scala Italy 2015: Martin Odersky - The Evolution of Scala\n",
    "\n",
    "<center>\n",
    "<img src=\"img/hascalator.png\" width=\"1000\">\n",
    "</center>"
   ]
  },
  {
   "cell_type": "markdown",
   "id": "3b0f561f",
   "metadata": {
    "slideshow": {
     "slide_type": "subslide"
    }
   },
   "source": [
    "* A type class in a set of (otherwise unrelated) types that share a particular property.\n",
    "\n",
    "\n",
    "* A type class is an abstract, parameterized type that lets you add new behavior to any closed data type without using sub-typing."
   ]
  },
  {
   "cell_type": "code",
   "execution_count": null,
   "id": "f120dbaf",
   "metadata": {
    "slideshow": {
     "slide_type": "subslide"
    }
   },
   "outputs": [],
   "source": [
    "data Person = Person { name :: String, age :: Int }"
   ]
  },
  {
   "cell_type": "code",
   "execution_count": null,
   "id": "a20c4001",
   "metadata": {
    "slideshow": {
     "slide_type": "fragment"
    }
   },
   "outputs": [],
   "source": [
    "ann = Person \"Ann\" 30"
   ]
  },
  {
   "cell_type": "code",
   "execution_count": null,
   "id": "90548715",
   "metadata": {
    "slideshow": {
     "slide_type": "fragment"
    }
   },
   "outputs": [],
   "source": [
    "print ann"
   ]
  },
  {
   "cell_type": "code",
   "execution_count": null,
   "id": "60611615",
   "metadata": {
    "slideshow": {
     "slide_type": "subslide"
    }
   },
   "outputs": [],
   "source": [
    "data Person = Person { name :: String, age :: Int } deriving Show"
   ]
  },
  {
   "cell_type": "code",
   "execution_count": null,
   "id": "1aeaf680",
   "metadata": {
    "slideshow": {
     "slide_type": "fragment"
    }
   },
   "outputs": [],
   "source": [
    "ann = Person \"Ann\" 30\n",
    "\n",
    "print ann"
   ]
  },
  {
   "cell_type": "code",
   "execution_count": null,
   "id": "683cb969",
   "metadata": {
    "slideshow": {
     "slide_type": "fragment"
    }
   },
   "outputs": [],
   "source": [
    "anotherAnn = Person \"Ann\" 30\n",
    "bob = Person \"Bob\" 40"
   ]
  },
  {
   "cell_type": "code",
   "execution_count": null,
   "id": "b6e85b14",
   "metadata": {
    "slideshow": {
     "slide_type": "fragment"
    }
   },
   "outputs": [],
   "source": [
    "ann == anotherAnn"
   ]
  },
  {
   "cell_type": "code",
   "execution_count": null,
   "id": "350502e9",
   "metadata": {
    "slideshow": {
     "slide_type": "subslide"
    }
   },
   "outputs": [],
   "source": [
    "data Person = Person { name :: String, age :: Int } deriving (Show, Eq)\n",
    "\n",
    "ann = Person \"Ann\" 30\n",
    "anotherAnn = Person \"Ann\" 30\n",
    "bob = Person \"Bob\" 40"
   ]
  },
  {
   "cell_type": "code",
   "execution_count": null,
   "id": "c76042c5",
   "metadata": {
    "slideshow": {
     "slide_type": "fragment"
    }
   },
   "outputs": [],
   "source": [
    "ann == anotherAnn\n",
    "\n",
    "bob == ann"
   ]
  },
  {
   "cell_type": "markdown",
   "id": "fa3165c9",
   "metadata": {
    "slideshow": {
     "slide_type": "slide"
    }
   },
   "source": [
    "```haskell\n",
    "type Show :: * -> Constraint\n",
    "\n",
    "class Show a where\n",
    "    show :: a -> String\n",
    "    -- and some other things, but enough to define this for a given type\n",
    "```"
   ]
  },
  {
   "cell_type": "code",
   "execution_count": null,
   "id": "5ab18c10",
   "metadata": {
    "slideshow": {
     "slide_type": "fragment"
    }
   },
   "outputs": [],
   "source": [
    "show bob\n",
    "\n",
    "show 123"
   ]
  },
  {
   "cell_type": "markdown",
   "id": "818c009c",
   "metadata": {
    "slideshow": {
     "slide_type": "slide"
    }
   },
   "source": [
    "```haskell\n",
    "type Eq :: * -> Constraint\n",
    "\n",
    "class Eq a where\n",
    "    (==) :: a -> a -> Bool\n",
    "    (/=) :: a -> a -> Bool\n",
    "    \n",
    "    {-# MINIMAL (==) | (/=) #-}\n",
    "```"
   ]
  },
  {
   "cell_type": "code",
   "execution_count": null,
   "id": "f7374731",
   "metadata": {
    "slideshow": {
     "slide_type": "slide"
    }
   },
   "outputs": [],
   "source": [
    "data Person = Person { name :: String, age :: Int }\n",
    "\n",
    "\n",
    "ann = Person \"Ann\" 30\n",
    "anotherAnn = Person \"Ann\" 30\n",
    "bob = Person \"Bob\" 40\n",
    "joe = Person \"Joe\" 35"
   ]
  },
  {
   "cell_type": "code",
   "execution_count": null,
   "id": "e02bad0a",
   "metadata": {
    "slideshow": {
     "slide_type": "subslide"
    }
   },
   "outputs": [],
   "source": [
    "import Text.Printf (printf)\n",
    "\n",
    "\n",
    "instance Show Person where\n",
    "    show (Person name age) = printf \"Person(name: %s, age: %d)\" name age"
   ]
  },
  {
   "cell_type": "code",
   "execution_count": null,
   "id": "d312a1e2",
   "metadata": {
    "slideshow": {
     "slide_type": "fragment"
    }
   },
   "outputs": [],
   "source": [
    "instance Eq Person where\n",
    "    (Person name1 age1) == (Person name2 age2) = name1 == name2 && age1 == age2 "
   ]
  },
  {
   "cell_type": "code",
   "execution_count": null,
   "id": "5fefb54a",
   "metadata": {
    "slideshow": {
     "slide_type": "subslide"
    }
   },
   "outputs": [],
   "source": [
    "print ann\n",
    "\n",
    "print $ ann == anotherAnn\n",
    "print $ ann == bob"
   ]
  },
  {
   "cell_type": "code",
   "execution_count": null,
   "id": "b4869bcb",
   "metadata": {
    "slideshow": {
     "slide_type": "subslide"
    }
   },
   "outputs": [],
   "source": [
    "import Data.List (sort, sortOn)\n",
    "\n",
    "\n",
    "sort [bob, ann, joe, anotherAnn]"
   ]
  },
  {
   "cell_type": "code",
   "execution_count": null,
   "id": "6af66e0b",
   "metadata": {
    "slideshow": {
     "slide_type": "subslide"
    }
   },
   "outputs": [],
   "source": [
    ":info Ord"
   ]
  },
  {
   "cell_type": "markdown",
   "id": "27306799",
   "metadata": {
    "slideshow": {
     "slide_type": "subslide"
    }
   },
   "source": [
    "```haskell\n",
    "type Ord :: * -> Constraint\n",
    "\n",
    "class Eq a => Ord a where\n",
    "    (<=) :: a -> a -> Bool\n",
    "    (<) :: a -> a -> Bool\n",
    "    -- etc.\n",
    "    min :: a -> a -> a\n",
    "    max :: a -> a -> a\n",
    "    \n",
    "    {-# MINIMAL compare | (<=) #-}\n",
    "\n",
    "```"
   ]
  },
  {
   "cell_type": "code",
   "execution_count": null,
   "id": "7668c414",
   "metadata": {
    "slideshow": {
     "slide_type": "subslide"
    }
   },
   "outputs": [],
   "source": [
    "instance Ord Person where\n",
    "    (Person _ age1) <= (Person _ age2) = age1 <= age2"
   ]
  },
  {
   "cell_type": "code",
   "execution_count": null,
   "id": "b6dfa815",
   "metadata": {
    "slideshow": {
     "slide_type": "fragment"
    }
   },
   "outputs": [],
   "source": [
    "sort [bob, ann, joe, anotherAnn]"
   ]
  },
  {
   "cell_type": "code",
   "execution_count": null,
   "id": "ae950f05",
   "metadata": {
    "slideshow": {
     "slide_type": "fragment"
    }
   },
   "outputs": [],
   "source": [
    "import Data.Ord (Down(..))\n",
    "\n",
    "\n",
    "sortOn Down [bob, ann, joe, anotherAnn]"
   ]
  },
  {
   "cell_type": "code",
   "execution_count": null,
   "id": "dceb264c",
   "metadata": {
    "slideshow": {
     "slide_type": "subslide"
    }
   },
   "outputs": [],
   "source": [
    "insertionSort :: Ord a => [a] -> [a]\n",
    "insertionSort [] = []\n",
    "insertionSort (x : xs) = insert x (insertionSort xs)\n",
    "    where\n",
    "        insert item [] = [item]\n",
    "        insert item (y : ys) = \n",
    "            if item < y then item : y : ys\n",
    "            else y : insert item ys"
   ]
  },
  {
   "cell_type": "code",
   "execution_count": null,
   "id": "b57f6546",
   "metadata": {
    "slideshow": {
     "slide_type": "subslide"
    }
   },
   "outputs": [],
   "source": [
    "insertionSort [bob, ann, joe, anotherAnn]"
   ]
  },
  {
   "cell_type": "code",
   "execution_count": null,
   "id": "023c6a1a",
   "metadata": {
    "slideshow": {
     "slide_type": "fragment"
    }
   },
   "outputs": [],
   "source": [
    "insertionSort [4, 3, 2, 1]"
   ]
  },
  {
   "cell_type": "code",
   "execution_count": null,
   "id": "7951114b",
   "metadata": {
    "slideshow": {
     "slide_type": "fragment"
    }
   },
   "outputs": [],
   "source": [
    "insertionSort [\"T\", \"C\", \"A\", \"G\"]"
   ]
  },
  {
   "cell_type": "code",
   "execution_count": null,
   "id": "235a54f4",
   "metadata": {
    "slideshow": {
     "slide_type": "fragment"
    }
   },
   "outputs": [],
   "source": [
    "insertionSort [(10, \"b\"), (20, \"c\"), (10, \"a\")]"
   ]
  }
 ],
 "metadata": {
  "celltoolbar": "Slideshow",
  "kernelspec": {
   "display_name": "Haskell",
   "language": "haskell",
   "name": "haskell"
  },
  "language_info": {
   "codemirror_mode": "ihaskell",
   "file_extension": ".hs",
   "mimetype": "text/x-haskell",
   "name": "haskell",
   "pygments_lexer": "Haskell",
   "version": "8.10.7"
  }
 },
 "nbformat": 4,
 "nbformat_minor": 5
}
