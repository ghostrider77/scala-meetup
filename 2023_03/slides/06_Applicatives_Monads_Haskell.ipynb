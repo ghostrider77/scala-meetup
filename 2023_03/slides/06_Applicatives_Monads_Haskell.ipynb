{
 "cells": [
  {
   "cell_type": "markdown",
   "id": "0f530cae",
   "metadata": {
    "slideshow": {
     "slide_type": "slide"
    }
   },
   "source": [
    "# Functors, Applicative Functors and Monads"
   ]
  },
  {
   "cell_type": "markdown",
   "id": "d247adf4",
   "metadata": {
    "slideshow": {
     "slide_type": "slide"
    }
   },
   "source": [
    "* Functor - general notion of mapping\n",
    "* Applicative functors - generic notion of function application\n",
    "* Monad - generic notion of effectful programming"
   ]
  },
  {
   "cell_type": "markdown",
   "id": "24ddb0ed",
   "metadata": {
    "slideshow": {
     "slide_type": "slide"
    }
   },
   "source": [
    "Reminder:\n",
    "\n",
    "```haskell\n",
    "type Functor :: (* -> *) -> Constraint\n",
    "\n",
    "class Functor f where\n",
    "    fmap :: (a -> b) -> f a -> f b\n",
    "    (<$) :: a -> f b -> f a\n",
    "    \n",
    "    {-# MINIMAL fmap #-}\n",
    "```"
   ]
  },
  {
   "cell_type": "markdown",
   "id": "bcd36fd1",
   "metadata": {
    "slideshow": {
     "slide_type": "subslide"
    }
   },
   "source": [
    "```haskell\n",
    "class Functor f => Applicative f where\n",
    "    pure :: a -> f a\n",
    "    (<*>) :: f (a -> b) -> f a -> f b\n",
    "```\n",
    "\n",
    "\n",
    "* `pure` converts a value of type `a` into a structure of type `f a`\n",
    "* `<*>` generalized form of function application: the argument, return value and function types are all contained in the same structure"
   ]
  },
  {
   "cell_type": "markdown",
   "id": "1412fb2e",
   "metadata": {
    "slideshow": {
     "slide_type": "subslide"
    }
   },
   "source": [
    "```haskell\n",
    "instance Applicative [] where\n",
    "    pure x = [x]\n",
    "    gs (<*>) xs = [g x | g <- gs, x <- xs]\n",
    "```"
   ]
  },
  {
   "cell_type": "code",
   "execution_count": null,
   "id": "47aea684",
   "metadata": {
    "slideshow": {
     "slide_type": "fragment"
    }
   },
   "outputs": [],
   "source": [
    "[(*2), (+10)] <*> [1, 2, 3]"
   ]
  },
  {
   "cell_type": "code",
   "execution_count": null,
   "id": "3dc4f008",
   "metadata": {
    "slideshow": {
     "slide_type": "subslide"
    }
   },
   "outputs": [],
   "source": [
    "Just (*2) <*> Nothing\n",
    "\n",
    "Just (*2) <*> Just 10\n",
    "\n",
    "Nothing <*> Just 10"
   ]
  },
  {
   "cell_type": "code",
   "execution_count": null,
   "id": "116ff543",
   "metadata": {
    "slideshow": {
     "slide_type": "fragment"
    }
   },
   "outputs": [],
   "source": [
    "pure (+1) <*> [1, 2, 3]"
   ]
  },
  {
   "cell_type": "markdown",
   "id": "c18f5fa3",
   "metadata": {
    "slideshow": {
     "slide_type": "subslide"
    }
   },
   "source": [
    "Applicative functors generalize the concept of the Functor using multivariate mapping functions.\n",
    "\n",
    "```haskell\n",
    "fmap2 :: (a -> b -> c) -> f a -> f b -> f c\n",
    "```\n",
    "can be expressed using applicatives.\n",
    "\n",
    "```haskell\n",
    "pure (\\x y -> x + y) <*> [1, 2] <*> [10, 20]\n",
    "```"
   ]
  },
  {
   "cell_type": "markdown",
   "id": "69a1bf4f",
   "metadata": {
    "slideshow": {
     "slide_type": "subslide"
    }
   },
   "source": [
    "```haskell\n",
    "pure (\\x y -> x + y) <*> [1, 2]\n",
    "```"
   ]
  },
  {
   "cell_type": "code",
   "execution_count": null,
   "id": "33045983",
   "metadata": {
    "slideshow": {
     "slide_type": "fragment"
    }
   },
   "outputs": [],
   "source": [
    "let [u, v] =  pure (\\x y -> x + y) <*> [1, 2] \n",
    "-- -> [\\y -> y + 1, \\y -> y + 2] = [addOne, addTwo]\n",
    "\n",
    "u 10\n",
    "v 10"
   ]
  },
  {
   "cell_type": "code",
   "execution_count": null,
   "id": "a76f6fda",
   "metadata": {
    "slideshow": {
     "slide_type": "fragment"
    }
   },
   "outputs": [],
   "source": [
    "pure (\\x y -> x + y) <*> [1, 2] <*> [10, 20]"
   ]
  },
  {
   "cell_type": "markdown",
   "id": "691e408e",
   "metadata": {
    "slideshow": {
     "slide_type": "slide"
    }
   },
   "source": [
    "```haskell\n",
    "class Applicative m => Monad m where\n",
    "    return :: a -> m a\n",
    "    (>>=) :: m a -> (a -> m b) -> m b\n",
    "    \n",
    "    return = pure\n",
    "```"
   ]
  },
  {
   "cell_type": "markdown",
   "id": "acc60468",
   "metadata": {
    "slideshow": {
     "slide_type": "subslide"
    }
   },
   "source": [
    "Monads can also be defined in another way that is more closer to its definition in category theory:\n",
    "\n",
    "```haskell\n",
    "class Functor m => Monad m where\n",
    "    unit :: a -> m a\n",
    "    join :: m (m a) -> m a\n",
    "    \n",
    "    return = pure\n",
    "    (>>=) :: m a -> (a -> m b) -> m b\n",
    "    f >>= x = join (fmap f x)\n",
    "```\n",
    "\n",
    "`pure`, `fmap`, `join` $\\iff$ `pure`, `(>>=)`"
   ]
  },
  {
   "cell_type": "code",
   "execution_count": null,
   "id": "6e5b1e78",
   "metadata": {
    "slideshow": {
     "slide_type": "subslide"
    }
   },
   "outputs": [],
   "source": [
    "pairs :: [a] -> [b] -> [(a, b)]\n",
    "pairs xs ys = xs >>= (\\x -> ys >>= \\y -> return (x, y))\n",
    "\n",
    "\n",
    "pairs [1, 2] [\"a\", \"b\", \"c\"]"
   ]
  },
  {
   "cell_type": "code",
   "execution_count": null,
   "id": "b1a4baa1",
   "metadata": {
    "slideshow": {
     "slide_type": "fragment"
    }
   },
   "outputs": [],
   "source": [
    "pairs :: [a] -> [b] -> [(a, b)]\n",
    "pairs xs ys = do\n",
    "    x <- xs\n",
    "    y <- ys\n",
    "    return (x, y)\n",
    "\n",
    "\n",
    "pairs [1, 2] [\"a\", \"b\", \"c\"]"
   ]
  }
 ],
 "metadata": {
  "celltoolbar": "Slideshow",
  "kernelspec": {
   "display_name": "Haskell",
   "language": "haskell",
   "name": "haskell"
  },
  "language_info": {
   "codemirror_mode": "ihaskell",
   "file_extension": ".hs",
   "mimetype": "text/x-haskell",
   "name": "haskell",
   "pygments_lexer": "Haskell",
   "version": "8.10.7"
  }
 },
 "nbformat": 4,
 "nbformat_minor": 5
}
